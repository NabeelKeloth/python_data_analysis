{
 "cells": [
  {
   "cell_type": "markdown",
   "metadata": {},
   "source": [
    "# Normalization\n",
    "\n",
    "Although the terms standardization and normalization are often used interchangeably, the process of normalization can include both standardizing and scaling data. \n",
    "\n",
    "## What is Standarization? \n",
    "![normal dist](https://www.mathplanet.com/Oldsite/media/27934/normal_distribution_500x263.jpg)\n",
    "A standard, normal distribution has a μ (mean) of 0 and a σ (standard deviation) of 1. Standardization, rescales the features of a dataset so that the overall distribution has mean of roughly 0 and a standard deviation of roughly 1. \n",
    "\n",
    "### When should we standardize a distribution? \n",
    "There isn't a hard fast rule to answer this question, but there are some general guidelines on when it is best to normalize your dataset. Generally speaking, data that has a roughly Gaussian distribution and measures a relationship between features that have different dimensions should be normalized to minimize the effect of the scale difference on the size of the coefficients. \n",
    "\n",
    "For example, the following datasets would be good candidates for normalization: \n",
    "- Comparing the efffect of a drug on two gene regions, one that is 1000 base pairs in length, the other that is 150 base pairs in length\n",
    "- Comparing the effects of age and income, where one variable ranges from 0 to 100 and the other 0 to 1,000,000 and beyond\n",
    "\n",
    "Normalization is not required for every dataset, but is useful when: \n",
    "- You do not know the distribution of your data\n",
    "- You know your data is not a Gaussian distribution\n",
    "- Your data has varying scales\n",
    "- Your algorithm assumes normality\n",
    "- Your model is centered around the mean and requires standard variance (PCA)\n",
    "\n",
    "### When should we NOT standardize? \n",
    "Most importantly, if the exact scale between features matters, you do not want to standardize your dataset. For example, if you're measuring the gender difference between clicks from a website ad, the difference in clicks is going to be different for each gender and you would throw all that information away by scaling. \n",
    "\n",
    "Additionally, algorithms that are not distance based, such as Linear Discriminant Analysis (LDA) and tree based methods, are not affected by feature scaling. \n",
    "\n",
    "Let's take a look at this in action: \n"
   ]
  },
  {
   "cell_type": "code",
   "execution_count": 80,
   "metadata": {},
   "outputs": [
    {
     "data": {
      "text/html": [
       "<div>\n",
       "<style scoped>\n",
       "    .dataframe tbody tr th:only-of-type {\n",
       "        vertical-align: middle;\n",
       "    }\n",
       "\n",
       "    .dataframe tbody tr th {\n",
       "        vertical-align: top;\n",
       "    }\n",
       "\n",
       "    .dataframe thead th {\n",
       "        text-align: right;\n",
       "    }\n",
       "</style>\n",
       "<table border=\"1\" class=\"dataframe\">\n",
       "  <thead>\n",
       "    <tr style=\"text-align: right;\">\n",
       "      <th></th>\n",
       "      <th>Score1</th>\n",
       "      <th>Score2</th>\n",
       "    </tr>\n",
       "  </thead>\n",
       "  <tbody>\n",
       "    <tr>\n",
       "      <th>0</th>\n",
       "      <td>62</td>\n",
       "      <td>1062</td>\n",
       "    </tr>\n",
       "    <tr>\n",
       "      <th>1</th>\n",
       "      <td>-47</td>\n",
       "      <td>-1047</td>\n",
       "    </tr>\n",
       "    <tr>\n",
       "      <th>2</th>\n",
       "      <td>-55</td>\n",
       "      <td>-12555</td>\n",
       "    </tr>\n",
       "    <tr>\n",
       "      <th>3</th>\n",
       "      <td>74</td>\n",
       "      <td>20074</td>\n",
       "    </tr>\n",
       "    <tr>\n",
       "      <th>4</th>\n",
       "      <td>31</td>\n",
       "      <td>40031</td>\n",
       "    </tr>\n",
       "    <tr>\n",
       "      <th>5</th>\n",
       "      <td>77</td>\n",
       "      <td>1077</td>\n",
       "    </tr>\n",
       "    <tr>\n",
       "      <th>6</th>\n",
       "      <td>85</td>\n",
       "      <td>1185</td>\n",
       "    </tr>\n",
       "    <tr>\n",
       "      <th>7</th>\n",
       "      <td>63</td>\n",
       "      <td>163</td>\n",
       "    </tr>\n",
       "    <tr>\n",
       "      <th>8</th>\n",
       "      <td>42</td>\n",
       "      <td>4222</td>\n",
       "    </tr>\n",
       "    <tr>\n",
       "      <th>9</th>\n",
       "      <td>67</td>\n",
       "      <td>3467</td>\n",
       "    </tr>\n",
       "    <tr>\n",
       "      <th>10</th>\n",
       "      <td>89</td>\n",
       "      <td>8889</td>\n",
       "    </tr>\n",
       "    <tr>\n",
       "      <th>11</th>\n",
       "      <td>81</td>\n",
       "      <td>10081</td>\n",
       "    </tr>\n",
       "    <tr>\n",
       "      <th>12</th>\n",
       "      <td>56</td>\n",
       "      <td>5656</td>\n",
       "    </tr>\n",
       "  </tbody>\n",
       "</table>\n",
       "</div>"
      ],
      "text/plain": [
       "    Score1  Score2\n",
       "0       62    1062\n",
       "1      -47   -1047\n",
       "2      -55  -12555\n",
       "3       74   20074\n",
       "4       31   40031\n",
       "5       77    1077\n",
       "6       85    1185\n",
       "7       63     163\n",
       "8       42    4222\n",
       "9       67    3467\n",
       "10      89    8889\n",
       "11      81   10081\n",
       "12      56    5656"
      ]
     },
     "execution_count": 80,
     "metadata": {},
     "output_type": "execute_result"
    }
   ],
   "source": [
    "# create a single column dataframe \n",
    "import pandas as pd\n",
    "import numpy as np\n",
    "# Set charts to view inline\n",
    "%matplotlib inline\n",
    " \n",
    "# Create a DataFrame\n",
    "df = pd.DataFrame({'Score1':[62,-47,-55,74,31,77,85,63,42,67,89,81,56],\n",
    "                  'Score2':[1062,-1047,-12555,20074,40031,1077,1185,163,4222,3467,8889,10081,5656]},\n",
    "                  columns=['Score1', 'Score2'])\n",
    "df"
   ]
  },
  {
   "cell_type": "markdown",
   "metadata": {},
   "source": [
    "We can easily see that our scores are on very different ranges: "
   ]
  },
  {
   "cell_type": "code",
   "execution_count": 81,
   "metadata": {},
   "outputs": [
    {
     "data": {
      "text/html": [
       "<div>\n",
       "<style scoped>\n",
       "    .dataframe tbody tr th:only-of-type {\n",
       "        vertical-align: middle;\n",
       "    }\n",
       "\n",
       "    .dataframe tbody tr th {\n",
       "        vertical-align: top;\n",
       "    }\n",
       "\n",
       "    .dataframe thead th {\n",
       "        text-align: right;\n",
       "    }\n",
       "</style>\n",
       "<table border=\"1\" class=\"dataframe\">\n",
       "  <thead>\n",
       "    <tr style=\"text-align: right;\">\n",
       "      <th></th>\n",
       "      <th>Score1</th>\n",
       "      <th>Score2</th>\n",
       "    </tr>\n",
       "  </thead>\n",
       "  <tbody>\n",
       "    <tr>\n",
       "      <th>count</th>\n",
       "      <td>13.000000</td>\n",
       "      <td>13.000000</td>\n",
       "    </tr>\n",
       "    <tr>\n",
       "      <th>mean</th>\n",
       "      <td>48.076923</td>\n",
       "      <td>6331.153846</td>\n",
       "    </tr>\n",
       "    <tr>\n",
       "      <th>std</th>\n",
       "      <td>46.958247</td>\n",
       "      <td>12547.510416</td>\n",
       "    </tr>\n",
       "    <tr>\n",
       "      <th>min</th>\n",
       "      <td>-55.000000</td>\n",
       "      <td>-12555.000000</td>\n",
       "    </tr>\n",
       "    <tr>\n",
       "      <th>25%</th>\n",
       "      <td>42.000000</td>\n",
       "      <td>1062.000000</td>\n",
       "    </tr>\n",
       "    <tr>\n",
       "      <th>50%</th>\n",
       "      <td>63.000000</td>\n",
       "      <td>3467.000000</td>\n",
       "    </tr>\n",
       "    <tr>\n",
       "      <th>75%</th>\n",
       "      <td>77.000000</td>\n",
       "      <td>8889.000000</td>\n",
       "    </tr>\n",
       "    <tr>\n",
       "      <th>max</th>\n",
       "      <td>89.000000</td>\n",
       "      <td>40031.000000</td>\n",
       "    </tr>\n",
       "  </tbody>\n",
       "</table>\n",
       "</div>"
      ],
      "text/plain": [
       "          Score1        Score2\n",
       "count  13.000000     13.000000\n",
       "mean   48.076923   6331.153846\n",
       "std    46.958247  12547.510416\n",
       "min   -55.000000 -12555.000000\n",
       "25%    42.000000   1062.000000\n",
       "50%    63.000000   3467.000000\n",
       "75%    77.000000   8889.000000\n",
       "max    89.000000  40031.000000"
      ]
     },
     "execution_count": 81,
     "metadata": {},
     "output_type": "execute_result"
    }
   ],
   "source": [
    "df.describe()"
   ]
  },
  {
   "cell_type": "code",
   "execution_count": 90,
   "metadata": {},
   "outputs": [
    {
     "data": {
      "text/plain": [
       "<matplotlib.axes._subplots.AxesSubplot at 0x1a19c71a20>"
      ]
     },
     "execution_count": 90,
     "metadata": {},
     "output_type": "execute_result"
    },
    {
     "data": {
      "image/png": "[encoded data removed]",
      "text/plain": [
       "<Figure size 432x288 with 1 Axes>"
      ]
     },
     "metadata": {
      "needs_background": "light"
     },
     "output_type": "display_data"
    }
   ],
   "source": [
    "df.plot(kind='bar')"
   ]
  },
  {
   "cell_type": "markdown",
   "metadata": {},
   "source": [
    "Our scores are on such different ranges, that the Score2 column completetly drowns out information from Score1. Let's look at the distribution of each score individually: "
   ]
  },
  {
   "cell_type": "code",
   "execution_count": 82,
   "metadata": {},
   "outputs": [
    {
     "data": {
      "text/plain": [
       "<matplotlib.axes._subplots.AxesSubplot at 0x1a19de8908>"
      ]
     },
     "execution_count": 82,
     "metadata": {},
     "output_type": "execute_result"
    },
    {
     "data": {
      "image/png": "[encoded data removed]",
      "text/plain": [
       "<Figure size 432x288 with 1 Axes>"
      ]
     },
     "metadata": {
      "needs_background": "light"
     },
     "output_type": "display_data"
    }
   ],
   "source": [
    "df.Score1.plot(kind='bar')"
   ]
  },
  {
   "cell_type": "code",
   "execution_count": 83,
   "metadata": {},
   "outputs": [
    {
     "data": {
      "text/plain": [
       "<matplotlib.axes._subplots.AxesSubplot at 0x1a1951b400>"
      ]
     },
     "execution_count": 83,
     "metadata": {},
     "output_type": "execute_result"
    },
    {
     "data": {
      "image/png": "[encoded data removed]",
      "text/plain": [
       "<Figure size 432x288 with 1 Axes>"
      ]
     },
     "metadata": {
      "needs_background": "light"
     },
     "output_type": "display_data"
    }
   ],
   "source": [
    "df.Score2.plot(kind='bar')"
   ]
  },
  {
   "cell_type": "markdown",
   "metadata": {},
   "source": [
    "Even though the scores are on different scales, their distribution is similar. "
   ]
  },
  {
   "cell_type": "markdown",
   "metadata": {},
   "source": [
    "## Standardization\n",
    "The standard method of scaling features is to center the mean around 0 and the standard deviation around 1 using the following formula: \n",
    "    ![zscore](./zscore.png)\n",
    "    \n",
    "This method works best on dataset that is roughly normal, but on differing scales. \n",
    "\n",
    "#### Manual Rescaling\n",
    "Here we are taking each data point and finding the difference between the point and the feature's mean, then dividing by the feature's standard deviation. I emphasize the word \"feature\" here because this works on a feature level. \n",
    "\n",
    "We can easily create a function to do this manually to visualize how the normaliztion works. Then we will learn to use the scalers in sci-kit learn to easily apply different normalization methods to a dataset: "
   ]
  },
  {
   "cell_type": "code",
   "execution_count": 84,
   "metadata": {},
   "outputs": [],
   "source": [
    "def zscore_norm(x, mean, std_dev):\n",
    "    z = (x - mean)/std_dev\n",
    "    return z"
   ]
  },
  {
   "cell_type": "markdown",
   "metadata": {},
   "source": [
    "Now we need to find the mean and standard deviation for each column (normalization must be applied seperatly to each feature, not the entire dataframe): "
   ]
  },
  {
   "cell_type": "code",
   "execution_count": 85,
   "metadata": {},
   "outputs": [],
   "source": [
    "# score 1\n",
    "score1_mean = df.Score1.mean()\n",
    "score1_stdDev = df.Score1.std()\n",
    "\n",
    "# score 2\n",
    "score2_mean = df.Score2.mean()\n",
    "score2_stdDev = df.Score2.std()"
   ]
  },
  {
   "cell_type": "markdown",
   "metadata": {},
   "source": [
    "And now we can apply our zscore_norm() function to transform each column: "
   ]
  },
  {
   "cell_type": "code",
   "execution_count": 86,
   "metadata": {},
   "outputs": [],
   "source": [
    "df[\"Score1_z\"] = zscore_norm(df.Score1, score1_mean, score1_stdDev)"
   ]
  },
  {
   "cell_type": "code",
   "execution_count": 87,
   "metadata": {},
   "outputs": [],
   "source": [
    "df[\"Score2_z\"] = zscore_norm(df.Score2, score2_mean, score2_stdDev)"
   ]
  },
  {
   "cell_type": "markdown",
   "metadata": {},
   "source": [
    "Let's calculate the first row by hand as a check: "
   ]
  },
  {
   "cell_type": "code",
   "execution_count": 92,
   "metadata": {},
   "outputs": [
    {
     "data": {
      "text/plain": [
       "0.29649908021034427"
      ]
     },
     "execution_count": 92,
     "metadata": {},
     "output_type": "execute_result"
    }
   ],
   "source": [
    "(62 - score1_mean)/score1_stdDev"
   ]
  },
  {
   "cell_type": "code",
   "execution_count": 95,
   "metadata": {},
   "outputs": [
    {
     "data": {
      "text/plain": [
       "-0.41993620020522054"
      ]
     },
     "execution_count": 95,
     "metadata": {},
     "output_type": "execute_result"
    }
   ],
   "source": [
    "(1062 - score2_mean)/score2_stdDev"
   ]
  },
  {
   "cell_type": "markdown",
   "metadata": {},
   "source": [
    "And now lets take a look at our first score to make sure it's correct: "
   ]
  },
  {
   "cell_type": "code",
   "execution_count": 93,
   "metadata": {},
   "outputs": [
    {
     "data": {
      "text/html": [
       "<div>\n",
       "<style scoped>\n",
       "    .dataframe tbody tr th:only-of-type {\n",
       "        vertical-align: middle;\n",
       "    }\n",
       "\n",
       "    .dataframe tbody tr th {\n",
       "        vertical-align: top;\n",
       "    }\n",
       "\n",
       "    .dataframe thead th {\n",
       "        text-align: right;\n",
       "    }\n",
       "</style>\n",
       "<table border=\"1\" class=\"dataframe\">\n",
       "  <thead>\n",
       "    <tr style=\"text-align: right;\">\n",
       "      <th></th>\n",
       "      <th>Score1</th>\n",
       "      <th>Score2</th>\n",
       "      <th>Score1_z</th>\n",
       "      <th>Score2_z</th>\n",
       "    </tr>\n",
       "  </thead>\n",
       "  <tbody>\n",
       "    <tr>\n",
       "      <th>0</th>\n",
       "      <td>62</td>\n",
       "      <td>1062</td>\n",
       "      <td>0.296499</td>\n",
       "      <td>-0.419936</td>\n",
       "    </tr>\n",
       "  </tbody>\n",
       "</table>\n",
       "</div>"
      ],
      "text/plain": [
       "   Score1  Score2  Score1_z  Score2_z\n",
       "0      62    1062  0.296499 -0.419936"
      ]
     },
     "execution_count": 93,
     "metadata": {},
     "output_type": "execute_result"
    }
   ],
   "source": [
    "df.head(1)"
   ]
  },
  {
   "cell_type": "markdown",
   "metadata": {},
   "source": [
    "Our formula works as expected. "
   ]
  },
  {
   "cell_type": "code",
   "execution_count": 89,
   "metadata": {},
   "outputs": [
    {
     "data": {
      "text/plain": [
       "<matplotlib.axes._subplots.AxesSubplot at 0x1a19d0e3c8>"
      ]
     },
     "execution_count": 89,
     "metadata": {},
     "output_type": "execute_result"
    },
    {
     "data": {
      "image/png": "[encoded data removed]",
      "text/plain": [
       "<Figure size 432x288 with 1 Axes>"
      ]
     },
     "metadata": {
      "needs_background": "light"
     },
     "output_type": "display_data"
    }
   ],
   "source": [
    "df[[\"Score1_z\", \"Score2_z\"]].plot(kind='bar')"
   ]
  },
  {
   "cell_type": "markdown",
   "metadata": {},
   "source": [
    "And now we can clearly see that recentering the scores around the mean allows us to draw a better comparison between the two scores while retaining the distribution of each feature. "
   ]
  },
  {
   "cell_type": "markdown",
   "metadata": {},
   "source": [
    "## Scikit-Learn\n",
    "Scikit-learn is a popular package for data science and machine learning models, and contains a preprocessing package that allows us to easily normalize and scale data. Now that we know how the normalization process works, let's look at how to implement it in scikit-learn."
   ]
  },
  {
   "cell_type": "code",
   "execution_count": 97,
   "metadata": {},
   "outputs": [
    {
     "data": {
      "text/html": [
       "<div>\n",
       "<style scoped>\n",
       "    .dataframe tbody tr th:only-of-type {\n",
       "        vertical-align: middle;\n",
       "    }\n",
       "\n",
       "    .dataframe tbody tr th {\n",
       "        vertical-align: top;\n",
       "    }\n",
       "\n",
       "    .dataframe thead th {\n",
       "        text-align: right;\n",
       "    }\n",
       "</style>\n",
       "<table border=\"1\" class=\"dataframe\">\n",
       "  <thead>\n",
       "    <tr style=\"text-align: right;\">\n",
       "      <th></th>\n",
       "      <th>Score1</th>\n",
       "      <th>Score2</th>\n",
       "      <th>Score1_z</th>\n",
       "      <th>Score2_z</th>\n",
       "    </tr>\n",
       "  </thead>\n",
       "  <tbody>\n",
       "    <tr>\n",
       "      <th>0</th>\n",
       "      <td>62</td>\n",
       "      <td>1062</td>\n",
       "      <td>0.296499</td>\n",
       "      <td>-0.419936</td>\n",
       "    </tr>\n",
       "    <tr>\n",
       "      <th>1</th>\n",
       "      <td>-47</td>\n",
       "      <td>-1047</td>\n",
       "      <td>-2.024712</td>\n",
       "      <td>-0.588017</td>\n",
       "    </tr>\n",
       "    <tr>\n",
       "      <th>2</th>\n",
       "      <td>-55</td>\n",
       "      <td>-12555</td>\n",
       "      <td>-2.195076</td>\n",
       "      <td>-1.505171</td>\n",
       "    </tr>\n",
       "    <tr>\n",
       "      <th>3</th>\n",
       "      <td>74</td>\n",
       "      <td>20074</td>\n",
       "      <td>0.552045</td>\n",
       "      <td>1.095265</td>\n",
       "    </tr>\n",
       "    <tr>\n",
       "      <th>4</th>\n",
       "      <td>31</td>\n",
       "      <td>40031</td>\n",
       "      <td>-0.363662</td>\n",
       "      <td>2.685779</td>\n",
       "    </tr>\n",
       "    <tr>\n",
       "      <th>5</th>\n",
       "      <td>77</td>\n",
       "      <td>1077</td>\n",
       "      <td>0.615932</td>\n",
       "      <td>-0.418741</td>\n",
       "    </tr>\n",
       "    <tr>\n",
       "      <th>6</th>\n",
       "      <td>85</td>\n",
       "      <td>1185</td>\n",
       "      <td>0.786296</td>\n",
       "      <td>-0.410133</td>\n",
       "    </tr>\n",
       "    <tr>\n",
       "      <th>7</th>\n",
       "      <td>63</td>\n",
       "      <td>163</td>\n",
       "      <td>0.317795</td>\n",
       "      <td>-0.491584</td>\n",
       "    </tr>\n",
       "    <tr>\n",
       "      <th>8</th>\n",
       "      <td>42</td>\n",
       "      <td>4222</td>\n",
       "      <td>-0.129411</td>\n",
       "      <td>-0.168093</td>\n",
       "    </tr>\n",
       "    <tr>\n",
       "      <th>9</th>\n",
       "      <td>67</td>\n",
       "      <td>3467</td>\n",
       "      <td>0.402977</td>\n",
       "      <td>-0.228265</td>\n",
       "    </tr>\n",
       "    <tr>\n",
       "      <th>10</th>\n",
       "      <td>89</td>\n",
       "      <td>8889</td>\n",
       "      <td>0.871478</td>\n",
       "      <td>0.203853</td>\n",
       "    </tr>\n",
       "    <tr>\n",
       "      <th>11</th>\n",
       "      <td>81</td>\n",
       "      <td>10081</td>\n",
       "      <td>0.701114</td>\n",
       "      <td>0.298852</td>\n",
       "    </tr>\n",
       "    <tr>\n",
       "      <th>12</th>\n",
       "      <td>56</td>\n",
       "      <td>5656</td>\n",
       "      <td>0.168726</td>\n",
       "      <td>-0.053808</td>\n",
       "    </tr>\n",
       "  </tbody>\n",
       "</table>\n",
       "</div>"
      ],
      "text/plain": [
       "    Score1  Score2  Score1_z  Score2_z\n",
       "0       62    1062  0.296499 -0.419936\n",
       "1      -47   -1047 -2.024712 -0.588017\n",
       "2      -55  -12555 -2.195076 -1.505171\n",
       "3       74   20074  0.552045  1.095265\n",
       "4       31   40031 -0.363662  2.685779\n",
       "5       77    1077  0.615932 -0.418741\n",
       "6       85    1185  0.786296 -0.410133\n",
       "7       63     163  0.317795 -0.491584\n",
       "8       42    4222 -0.129411 -0.168093\n",
       "9       67    3467  0.402977 -0.228265\n",
       "10      89    8889  0.871478  0.203853\n",
       "11      81   10081  0.701114  0.298852\n",
       "12      56    5656  0.168726 -0.053808"
      ]
     },
     "execution_count": 97,
     "metadata": {},
     "output_type": "execute_result"
    }
   ],
   "source": [
    "from sklearn import preprocessing  #import the preprocessing package we need to normalize and scale\n",
    "\n",
    "df # remind ourselves what our dataframe looks like"
   ]
  },
  {
   "cell_type": "markdown",
   "metadata": {},
   "source": [
    "#### 1. Cast our columns to floats\n",
    "sklearn expects our preprocessing input to be floats, so we'll start by casting our score columns to floats: "
   ]
  },
  {
   "cell_type": "code",
   "execution_count": 99,
   "metadata": {},
   "outputs": [],
   "source": [
    "df[\"Score1\"] = df.Score1.astype(float)\n",
    "df[\"Score2\"] = df.Score2.astype(float)"
   ]
  },
  {
   "cell_type": "code",
   "execution_count": 100,
   "metadata": {},
   "outputs": [
    {
     "data": {
      "text/html": [
       "<div>\n",
       "<style scoped>\n",
       "    .dataframe tbody tr th:only-of-type {\n",
       "        vertical-align: middle;\n",
       "    }\n",
       "\n",
       "    .dataframe tbody tr th {\n",
       "        vertical-align: top;\n",
       "    }\n",
       "\n",
       "    .dataframe thead th {\n",
       "        text-align: right;\n",
       "    }\n",
       "</style>\n",
       "<table border=\"1\" class=\"dataframe\">\n",
       "  <thead>\n",
       "    <tr style=\"text-align: right;\">\n",
       "      <th></th>\n",
       "      <th>Score1</th>\n",
       "      <th>Score2</th>\n",
       "      <th>Score1_z</th>\n",
       "      <th>Score2_z</th>\n",
       "    </tr>\n",
       "  </thead>\n",
       "  <tbody>\n",
       "    <tr>\n",
       "      <th>0</th>\n",
       "      <td>62.0</td>\n",
       "      <td>1062.0</td>\n",
       "      <td>0.296499</td>\n",
       "      <td>-0.419936</td>\n",
       "    </tr>\n",
       "    <tr>\n",
       "      <th>1</th>\n",
       "      <td>-47.0</td>\n",
       "      <td>-1047.0</td>\n",
       "      <td>-2.024712</td>\n",
       "      <td>-0.588017</td>\n",
       "    </tr>\n",
       "    <tr>\n",
       "      <th>2</th>\n",
       "      <td>-55.0</td>\n",
       "      <td>-12555.0</td>\n",
       "      <td>-2.195076</td>\n",
       "      <td>-1.505171</td>\n",
       "    </tr>\n",
       "    <tr>\n",
       "      <th>3</th>\n",
       "      <td>74.0</td>\n",
       "      <td>20074.0</td>\n",
       "      <td>0.552045</td>\n",
       "      <td>1.095265</td>\n",
       "    </tr>\n",
       "    <tr>\n",
       "      <th>4</th>\n",
       "      <td>31.0</td>\n",
       "      <td>40031.0</td>\n",
       "      <td>-0.363662</td>\n",
       "      <td>2.685779</td>\n",
       "    </tr>\n",
       "  </tbody>\n",
       "</table>\n",
       "</div>"
      ],
      "text/plain": [
       "   Score1   Score2  Score1_z  Score2_z\n",
       "0    62.0   1062.0  0.296499 -0.419936\n",
       "1   -47.0  -1047.0 -2.024712 -0.588017\n",
       "2   -55.0 -12555.0 -2.195076 -1.505171\n",
       "3    74.0  20074.0  0.552045  1.095265\n",
       "4    31.0  40031.0 -0.363662  2.685779"
      ]
     },
     "execution_count": 100,
     "metadata": {},
     "output_type": "execute_result"
    }
   ],
   "source": [
    "df.head()"
   ]
  },
  {
   "cell_type": "markdown",
   "metadata": {},
   "source": [
    "#### 2. Create a scaling transformer\n",
    "Scikit learn pipelines always start by creating either a transform or model object that we apply to our dataset: "
   ]
  },
  {
   "cell_type": "code",
   "execution_count": 118,
   "metadata": {},
   "outputs": [],
   "source": [
    "# Create a minimum and maximum processor object\n",
    "standard_scaler = preprocessing.StandardScaler()"
   ]
  },
  {
   "cell_type": "markdown",
   "metadata": {},
   "source": [
    "#### 3. Apply the transform to the columns\n",
    "Now that we've created the transforming object, we can fit the object to our dataset and transform to the columns we want to transform: "
   ]
  },
  {
   "cell_type": "code",
   "execution_count": 120,
   "metadata": {},
   "outputs": [],
   "source": [
    " df[[\"Score1\", \"Score2\"]] = standard_scaler.fit_transform(df[[\"Score1\", \"Score2\"]])"
   ]
  },
  {
   "cell_type": "code",
   "execution_count": 121,
   "metadata": {},
   "outputs": [
    {
     "data": {
      "text/html": [
       "<div>\n",
       "<style scoped>\n",
       "    .dataframe tbody tr th:only-of-type {\n",
       "        vertical-align: middle;\n",
       "    }\n",
       "\n",
       "    .dataframe tbody tr th {\n",
       "        vertical-align: top;\n",
       "    }\n",
       "\n",
       "    .dataframe thead th {\n",
       "        text-align: right;\n",
       "    }\n",
       "</style>\n",
       "<table border=\"1\" class=\"dataframe\">\n",
       "  <thead>\n",
       "    <tr style=\"text-align: right;\">\n",
       "      <th></th>\n",
       "      <th>Score1</th>\n",
       "      <th>Score2</th>\n",
       "      <th>Score1_z</th>\n",
       "      <th>Score2_z</th>\n",
       "    </tr>\n",
       "  </thead>\n",
       "  <tbody>\n",
       "    <tr>\n",
       "      <th>0</th>\n",
       "      <td>0.308606</td>\n",
       "      <td>-0.437083</td>\n",
       "      <td>0.296499</td>\n",
       "      <td>-0.419936</td>\n",
       "    </tr>\n",
       "    <tr>\n",
       "      <th>1</th>\n",
       "      <td>-2.107387</td>\n",
       "      <td>-0.612028</td>\n",
       "      <td>-2.024712</td>\n",
       "      <td>-0.588017</td>\n",
       "    </tr>\n",
       "    <tr>\n",
       "      <th>2</th>\n",
       "      <td>-2.284708</td>\n",
       "      <td>-1.566632</td>\n",
       "      <td>-2.195076</td>\n",
       "      <td>-1.505171</td>\n",
       "    </tr>\n",
       "    <tr>\n",
       "      <th>3</th>\n",
       "      <td>0.574587</td>\n",
       "      <td>1.139988</td>\n",
       "      <td>0.552045</td>\n",
       "      <td>1.095265</td>\n",
       "    </tr>\n",
       "    <tr>\n",
       "      <th>4</th>\n",
       "      <td>-0.378511</td>\n",
       "      <td>2.795448</td>\n",
       "      <td>-0.363662</td>\n",
       "      <td>2.685779</td>\n",
       "    </tr>\n",
       "    <tr>\n",
       "      <th>5</th>\n",
       "      <td>0.641082</td>\n",
       "      <td>-0.435839</td>\n",
       "      <td>0.615932</td>\n",
       "      <td>-0.418741</td>\n",
       "    </tr>\n",
       "    <tr>\n",
       "      <th>6</th>\n",
       "      <td>0.818403</td>\n",
       "      <td>-0.426880</td>\n",
       "      <td>0.786296</td>\n",
       "      <td>-0.410133</td>\n",
       "    </tr>\n",
       "    <tr>\n",
       "      <th>7</th>\n",
       "      <td>0.330771</td>\n",
       "      <td>-0.511657</td>\n",
       "      <td>0.317795</td>\n",
       "      <td>-0.491584</td>\n",
       "    </tr>\n",
       "    <tr>\n",
       "      <th>8</th>\n",
       "      <td>-0.134695</td>\n",
       "      <td>-0.174957</td>\n",
       "      <td>-0.129411</td>\n",
       "      <td>-0.168093</td>\n",
       "    </tr>\n",
       "    <tr>\n",
       "      <th>9</th>\n",
       "      <td>0.419431</td>\n",
       "      <td>-0.237585</td>\n",
       "      <td>0.402977</td>\n",
       "      <td>-0.228265</td>\n",
       "    </tr>\n",
       "    <tr>\n",
       "      <th>10</th>\n",
       "      <td>0.907063</td>\n",
       "      <td>0.212177</td>\n",
       "      <td>0.871478</td>\n",
       "      <td>0.203853</td>\n",
       "    </tr>\n",
       "    <tr>\n",
       "      <th>11</th>\n",
       "      <td>0.729742</td>\n",
       "      <td>0.311055</td>\n",
       "      <td>0.701114</td>\n",
       "      <td>0.298852</td>\n",
       "    </tr>\n",
       "    <tr>\n",
       "      <th>12</th>\n",
       "      <td>0.175616</td>\n",
       "      <td>-0.056005</td>\n",
       "      <td>0.168726</td>\n",
       "      <td>-0.053808</td>\n",
       "    </tr>\n",
       "  </tbody>\n",
       "</table>\n",
       "</div>"
      ],
      "text/plain": [
       "      Score1    Score2  Score1_z  Score2_z\n",
       "0   0.308606 -0.437083  0.296499 -0.419936\n",
       "1  -2.107387 -0.612028 -2.024712 -0.588017\n",
       "2  -2.284708 -1.566632 -2.195076 -1.505171\n",
       "3   0.574587  1.139988  0.552045  1.095265\n",
       "4  -0.378511  2.795448 -0.363662  2.685779\n",
       "5   0.641082 -0.435839  0.615932 -0.418741\n",
       "6   0.818403 -0.426880  0.786296 -0.410133\n",
       "7   0.330771 -0.511657  0.317795 -0.491584\n",
       "8  -0.134695 -0.174957 -0.129411 -0.168093\n",
       "9   0.419431 -0.237585  0.402977 -0.228265\n",
       "10  0.907063  0.212177  0.871478  0.203853\n",
       "11  0.729742  0.311055  0.701114  0.298852\n",
       "12  0.175616 -0.056005  0.168726 -0.053808"
      ]
     },
     "execution_count": 121,
     "metadata": {},
     "output_type": "execute_result"
    }
   ],
   "source": [
    "df"
   ]
  },
  {
   "cell_type": "markdown",
   "metadata": {},
   "source": [
    "The standard scaler from sklearn uses a slightly different formula than our manual method, but you can see that the results are very similar. "
   ]
  },
  {
   "cell_type": "markdown",
   "metadata": {},
   "source": [
    "## Scaling\n",
    "\n",
    "### Min-Max Scaling\n",
    "Min-Max scaling scales the data points to a fixed range, usually between 0 and 1. For each data point, min-max scaler subtracts the minimum value for a feature from the data point, and then divides by the range. This process preserves the original shape of the distribution without reducing the importance of outliers. \n",
    "                                    ![min_max](./min_max.png)\n",
    "\n",
    "#### When to use Min-Max\n",
    "This method works great for algorithms that require certain bounded input, such as in image processing where images are coded in RGB color with pixel intensitie values between 0 and 100. Many neural networks require data to be input on a scale between 0 and 1. \n",
    "\n",
    "This is also a good method to try if your data is not normally distributed. \n",
    "\n",
    "The downside of this method is that it decreases our standard deviation and the importance of outliers. So it's a good method to use if we want to minimize the effect of outliers. \n",
    "\n",
    "Let's rebuild our original dataframe to try this method out: "
   ]
  },
  {
   "cell_type": "code",
   "execution_count": 133,
   "metadata": {},
   "outputs": [
    {
     "data": {
      "text/html": [
       "<div>\n",
       "<style scoped>\n",
       "    .dataframe tbody tr th:only-of-type {\n",
       "        vertical-align: middle;\n",
       "    }\n",
       "\n",
       "    .dataframe tbody tr th {\n",
       "        vertical-align: top;\n",
       "    }\n",
       "\n",
       "    .dataframe thead th {\n",
       "        text-align: right;\n",
       "    }\n",
       "</style>\n",
       "<table border=\"1\" class=\"dataframe\">\n",
       "  <thead>\n",
       "    <tr style=\"text-align: right;\">\n",
       "      <th></th>\n",
       "      <th>Score1</th>\n",
       "      <th>Score2</th>\n",
       "    </tr>\n",
       "  </thead>\n",
       "  <tbody>\n",
       "    <tr>\n",
       "      <th>0</th>\n",
       "      <td>62</td>\n",
       "      <td>1062</td>\n",
       "    </tr>\n",
       "    <tr>\n",
       "      <th>1</th>\n",
       "      <td>-47</td>\n",
       "      <td>-1047</td>\n",
       "    </tr>\n",
       "    <tr>\n",
       "      <th>2</th>\n",
       "      <td>-55</td>\n",
       "      <td>-12555</td>\n",
       "    </tr>\n",
       "    <tr>\n",
       "      <th>3</th>\n",
       "      <td>74</td>\n",
       "      <td>20074</td>\n",
       "    </tr>\n",
       "    <tr>\n",
       "      <th>4</th>\n",
       "      <td>31</td>\n",
       "      <td>40031</td>\n",
       "    </tr>\n",
       "    <tr>\n",
       "      <th>5</th>\n",
       "      <td>77</td>\n",
       "      <td>1077</td>\n",
       "    </tr>\n",
       "    <tr>\n",
       "      <th>6</th>\n",
       "      <td>85</td>\n",
       "      <td>1185</td>\n",
       "    </tr>\n",
       "    <tr>\n",
       "      <th>7</th>\n",
       "      <td>63</td>\n",
       "      <td>163</td>\n",
       "    </tr>\n",
       "    <tr>\n",
       "      <th>8</th>\n",
       "      <td>42</td>\n",
       "      <td>4222</td>\n",
       "    </tr>\n",
       "    <tr>\n",
       "      <th>9</th>\n",
       "      <td>67</td>\n",
       "      <td>3467</td>\n",
       "    </tr>\n",
       "    <tr>\n",
       "      <th>10</th>\n",
       "      <td>89</td>\n",
       "      <td>8889</td>\n",
       "    </tr>\n",
       "    <tr>\n",
       "      <th>11</th>\n",
       "      <td>81</td>\n",
       "      <td>10081</td>\n",
       "    </tr>\n",
       "    <tr>\n",
       "      <th>12</th>\n",
       "      <td>56</td>\n",
       "      <td>5656</td>\n",
       "    </tr>\n",
       "  </tbody>\n",
       "</table>\n",
       "</div>"
      ],
      "text/plain": [
       "    Score1  Score2\n",
       "0       62    1062\n",
       "1      -47   -1047\n",
       "2      -55  -12555\n",
       "3       74   20074\n",
       "4       31   40031\n",
       "5       77    1077\n",
       "6       85    1185\n",
       "7       63     163\n",
       "8       42    4222\n",
       "9       67    3467\n",
       "10      89    8889\n",
       "11      81   10081\n",
       "12      56    5656"
      ]
     },
     "execution_count": 133,
     "metadata": {},
     "output_type": "execute_result"
    }
   ],
   "source": [
    "# Create a DataFrame\n",
    "df2 = pd.DataFrame({'Score1':[62,-47,-55,74,31,77,85,63,42,67,89,81,56],\n",
    "                  'Score2':[1062,-1047,-12555,20074,40031,1077,1185,163,4222,3467,8889,10081,5656]},\n",
    "                  columns=['Score1', 'Score2'])\n",
    "df2"
   ]
  },
  {
   "cell_type": "code",
   "execution_count": 113,
   "metadata": {},
   "outputs": [
    {
     "data": {
      "text/html": [
       "<div>\n",
       "<style scoped>\n",
       "    .dataframe tbody tr th:only-of-type {\n",
       "        vertical-align: middle;\n",
       "    }\n",
       "\n",
       "    .dataframe tbody tr th {\n",
       "        vertical-align: top;\n",
       "    }\n",
       "\n",
       "    .dataframe thead th {\n",
       "        text-align: right;\n",
       "    }\n",
       "</style>\n",
       "<table border=\"1\" class=\"dataframe\">\n",
       "  <thead>\n",
       "    <tr style=\"text-align: right;\">\n",
       "      <th></th>\n",
       "      <th>Score1</th>\n",
       "      <th>Score2</th>\n",
       "    </tr>\n",
       "  </thead>\n",
       "  <tbody>\n",
       "    <tr>\n",
       "      <th>count</th>\n",
       "      <td>13.000000</td>\n",
       "      <td>13.000000</td>\n",
       "    </tr>\n",
       "    <tr>\n",
       "      <th>mean</th>\n",
       "      <td>48.076923</td>\n",
       "      <td>6331.153846</td>\n",
       "    </tr>\n",
       "    <tr>\n",
       "      <th>std</th>\n",
       "      <td>46.958247</td>\n",
       "      <td>12547.510416</td>\n",
       "    </tr>\n",
       "    <tr>\n",
       "      <th>min</th>\n",
       "      <td>-55.000000</td>\n",
       "      <td>-12555.000000</td>\n",
       "    </tr>\n",
       "    <tr>\n",
       "      <th>25%</th>\n",
       "      <td>42.000000</td>\n",
       "      <td>1062.000000</td>\n",
       "    </tr>\n",
       "    <tr>\n",
       "      <th>50%</th>\n",
       "      <td>63.000000</td>\n",
       "      <td>3467.000000</td>\n",
       "    </tr>\n",
       "    <tr>\n",
       "      <th>75%</th>\n",
       "      <td>77.000000</td>\n",
       "      <td>8889.000000</td>\n",
       "    </tr>\n",
       "    <tr>\n",
       "      <th>max</th>\n",
       "      <td>89.000000</td>\n",
       "      <td>40031.000000</td>\n",
       "    </tr>\n",
       "  </tbody>\n",
       "</table>\n",
       "</div>"
      ],
      "text/plain": [
       "          Score1        Score2\n",
       "count  13.000000     13.000000\n",
       "mean   48.076923   6331.153846\n",
       "std    46.958247  12547.510416\n",
       "min   -55.000000 -12555.000000\n",
       "25%    42.000000   1062.000000\n",
       "50%    63.000000   3467.000000\n",
       "75%    77.000000   8889.000000\n",
       "max    89.000000  40031.000000"
      ]
     },
     "execution_count": 113,
     "metadata": {},
     "output_type": "execute_result"
    }
   ],
   "source": [
    "df2.describe()"
   ]
  },
  {
   "cell_type": "markdown",
   "metadata": {},
   "source": [
    "Our range is all over the place for this dataset. Let's plot our distribution: "
   ]
  },
  {
   "cell_type": "code",
   "execution_count": 114,
   "metadata": {},
   "outputs": [
    {
     "data": {
      "text/plain": [
       "<matplotlib.axes._subplots.AxesSubplot at 0x1a1a8f1198>"
      ]
     },
     "execution_count": 114,
     "metadata": {},
     "output_type": "execute_result"
    },
    {
     "data": {
      "image/png": "[encoded data removed]",
      "text/plain": [
       "<Figure size 432x288 with 1 Axes>"
      ]
     },
     "metadata": {
      "needs_background": "light"
     },
     "output_type": "display_data"
    }
   ],
   "source": [
    "df2.plot(kind='bar')"
   ]
  },
  {
   "cell_type": "code",
   "execution_count": 134,
   "metadata": {},
   "outputs": [],
   "source": [
    "# step1: cast our values to floats\n",
    "df2[\"Score1\"] = df2[['Score1']].values.astype(float)\n",
    "df2[\"Score2\"] = df2[['Score2']].values.astype(float)"
   ]
  },
  {
   "cell_type": "code",
   "execution_count": 137,
   "metadata": {},
   "outputs": [],
   "source": [
    "# Create a minimum and maximum processor object\n",
    "min_max_scaler = preprocessing.MinMaxScaler()\n",
    "\n",
    "# Create an object to transform the data to fit minmax processor\n",
    "scaled_df = min_max_scaler.fit_transform(df2)\n",
    "names = df2.columns\n",
    "df3 = pd.DataFrame(scaled_df, columns=names)"
   ]
  },
  {
   "cell_type": "code",
   "execution_count": 144,
   "metadata": {},
   "outputs": [
    {
     "data": {
      "text/html": [
       "<div>\n",
       "<style scoped>\n",
       "    .dataframe tbody tr th:only-of-type {\n",
       "        vertical-align: middle;\n",
       "    }\n",
       "\n",
       "    .dataframe tbody tr th {\n",
       "        vertical-align: top;\n",
       "    }\n",
       "\n",
       "    .dataframe thead th {\n",
       "        text-align: right;\n",
       "    }\n",
       "</style>\n",
       "<table border=\"1\" class=\"dataframe\">\n",
       "  <thead>\n",
       "    <tr style=\"text-align: right;\">\n",
       "      <th></th>\n",
       "      <th>Score1</th>\n",
       "      <th>Score2</th>\n",
       "      <th>Score1</th>\n",
       "      <th>Score2</th>\n",
       "    </tr>\n",
       "  </thead>\n",
       "  <tbody>\n",
       "    <tr>\n",
       "      <th>count</th>\n",
       "      <td>13.000000</td>\n",
       "      <td>13.000000</td>\n",
       "      <td>13.000000</td>\n",
       "      <td>13.000000</td>\n",
       "    </tr>\n",
       "    <tr>\n",
       "      <th>mean</th>\n",
       "      <td>48.076923</td>\n",
       "      <td>6331.153846</td>\n",
       "      <td>0.715812</td>\n",
       "      <td>0.359148</td>\n",
       "    </tr>\n",
       "    <tr>\n",
       "      <th>std</th>\n",
       "      <td>46.958247</td>\n",
       "      <td>12547.510416</td>\n",
       "      <td>0.326099</td>\n",
       "      <td>0.238609</td>\n",
       "    </tr>\n",
       "    <tr>\n",
       "      <th>min</th>\n",
       "      <td>-55.000000</td>\n",
       "      <td>-12555.000000</td>\n",
       "      <td>0.000000</td>\n",
       "      <td>0.000000</td>\n",
       "    </tr>\n",
       "    <tr>\n",
       "      <th>25%</th>\n",
       "      <td>42.000000</td>\n",
       "      <td>1062.000000</td>\n",
       "      <td>0.673611</td>\n",
       "      <td>0.258947</td>\n",
       "    </tr>\n",
       "    <tr>\n",
       "      <th>50%</th>\n",
       "      <td>63.000000</td>\n",
       "      <td>3467.000000</td>\n",
       "      <td>0.819444</td>\n",
       "      <td>0.304682</td>\n",
       "    </tr>\n",
       "    <tr>\n",
       "      <th>75%</th>\n",
       "      <td>77.000000</td>\n",
       "      <td>8889.000000</td>\n",
       "      <td>0.916667</td>\n",
       "      <td>0.407789</td>\n",
       "    </tr>\n",
       "    <tr>\n",
       "      <th>max</th>\n",
       "      <td>89.000000</td>\n",
       "      <td>40031.000000</td>\n",
       "      <td>1.000000</td>\n",
       "      <td>1.000000</td>\n",
       "    </tr>\n",
       "  </tbody>\n",
       "</table>\n",
       "</div>"
      ],
      "text/plain": [
       "          Score1        Score2     Score1     Score2\n",
       "count  13.000000     13.000000  13.000000  13.000000\n",
       "mean   48.076923   6331.153846   0.715812   0.359148\n",
       "std    46.958247  12547.510416   0.326099   0.238609\n",
       "min   -55.000000 -12555.000000   0.000000   0.000000\n",
       "25%    42.000000   1062.000000   0.673611   0.258947\n",
       "50%    63.000000   3467.000000   0.819444   0.304682\n",
       "75%    77.000000   8889.000000   0.916667   0.407789\n",
       "max    89.000000  40031.000000   1.000000   1.000000"
      ]
     },
     "execution_count": 144,
     "metadata": {},
     "output_type": "execute_result"
    }
   ],
   "source": [
    "pd.concat([df2.describe(), df3.describe()], \n",
    "          axis=1)"
   ]
  },
  {
   "cell_type": "markdown",
   "metadata": {},
   "source": [
    "All of our values have now been scaled between the range of 0 and 1. "
   ]
  },
  {
   "cell_type": "code",
   "execution_count": 145,
   "metadata": {},
   "outputs": [
    {
     "data": {
      "text/plain": [
       "<matplotlib.axes._subplots.AxesSubplot at 0x1a1a94d470>"
      ]
     },
     "execution_count": 145,
     "metadata": {},
     "output_type": "execute_result"
    },
    {
     "data": {
      "image/png": "[encoded data removed]",
      "text/plain": [
       "<Figure size 432x288 with 1 Axes>"
      ]
     },
     "metadata": {
      "needs_background": "light"
     },
     "output_type": "display_data"
    }
   ],
   "source": [
    "df3.plot(kind='bar')"
   ]
  },
  {
   "cell_type": "markdown",
   "metadata": {},
   "source": [
    "And once again, we can more easily examine any potential relationship between Score1 and Score2. \n",
    "\n",
    "## Further Reading\n",
    "There are many more methods of standardizing and scaling your dataset than we have time to discuss here, but please see this article for more information on the standard options available with scikit learn: \n",
    "\n",
    "https://scikit-learn.org/stable/auto_examples/preprocessing/plot_all_scaling.html#sphx-glr-auto-examples-preprocessing-plot-all-scaling-py"
   ]
  }
 ],
 "metadata": {
  "kernelspec": {
   "display_name": "Python 3",
   "language": "python",
   "name": "python3"
  },
  "language_info": {
   "codemirror_mode": {
    "name": "ipython",
    "version": 3
   },
   "file_extension": ".py",
   "mimetype": "text/x-python",
   "name": "python",
   "nbconvert_exporter": "python",
   "pygments_lexer": "ipython3",
   "version": "3.7.3"
  }
 },
 "nbformat": 4,
 "nbformat_minor": 2
}
