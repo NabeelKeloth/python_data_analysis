{
 "cells": [
  {
   "cell_type": "markdown",
   "metadata": {},
   "source": [
    "# Exploratory Data Analysis\n",
    "![eda](https://cdn-images-1.medium.com/max/800/1*hFJ-LI7IXcWpxSLtaC0dfg.png)\n",
    "\n",
    "Before you can begin a meaningful analysis, you need to get a good idea of what kind of data you are working with. Exploratory Data Analysis (EDA) is the process of performing an initial assessment of your dataset to identify relationships, outliers and check statistical assumptions before applying a model. \n",
    "\n",
    "The output of this stage is usually a set of summary statistics and visualizations. Don't skip this step, or it will come back to bite you later. "
   ]
  },
  {
   "cell_type": "markdown",
   "metadata": {},
   "source": [
    "## Value of EDA\n",
    "This is your first chance to get a good look at what you're dealing with. This stage can help you determine: \n",
    "- That this dataset is going to contain the information you need to answer your questions\n",
    "- If there are any outliers that need be thrown out or examined in more detail\n",
    "- If your data is free \"enough\" from bias and skew\n",
    "- If normalization methods need to be applied\n",
    "- What kind of statistical models might work well\n",
    "- Do you need to gather more data? \n",
    "- Which features are the most meaningful to look at? \n",
    "- Can you throw out any redundant information? "
   ]
  },
  {
   "cell_type": "markdown",
   "metadata": {},
   "source": [
    "## Methods for EDA\n",
    "During this phase of analysis, we'll learn to: \n",
    "- Encode categorical data so we can use it in statistical models\n",
    "- Bin data into more meaningful chunks\n",
    "- Apply normalization/transforms to skewed datasets\n",
    "- Check for outliers"
   ]
  }
 ],
 "metadata": {
  "kernelspec": {
   "display_name": "Python 3",
   "language": "python",
   "name": "python3"
  },
  "language_info": {
   "codemirror_mode": {
    "name": "ipython",
    "version": 3
   },
   "file_extension": ".py",
   "mimetype": "text/x-python",
   "name": "python",
   "nbconvert_exporter": "python",
   "pygments_lexer": "ipython3",
   "version": "3.7.1"
  }
 },
 "nbformat": 4,
 "nbformat_minor": 2
}
