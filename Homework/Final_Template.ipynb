{
 "cells": [
  {
   "cell_type": "markdown",
   "metadata": {},
   "source": [
    "# Final Project Template\n",
    "This notebook is a template that you can use for your final project. Please replace the title with a title appropriate for your sutdy and follow the guidance for each step. "
   ]
  },
  {
   "cell_type": "markdown",
   "metadata": {},
   "source": [
    "## Dataset Description (10 points)\n",
    "Tell us about your dataset, including: \n",
    "    - Where you got it\n",
    "    - Why the source is reliable\n",
    "    - How it was gathered (study info, participants, etc.)\n",
    "    - What each column contains and any applicable measurment units"
   ]
  },
  {
   "cell_type": "markdown",
   "metadata": {},
   "source": [
    "## Read in and Clean Dataset (10 points)\n",
    "Read in your dataset and do all of the necessary transformations and munging including: \n",
    "    - Parsing column headers\n",
    "    - Finding and handling null values\n",
    "    - Encoding categorical variables\n",
    "    - Dropping unnecessary columns\n",
    "    - Binning any large range categorical variables"
   ]
  },
  {
   "cell_type": "markdown",
   "metadata": {},
   "source": [
    "## Exploratory Data Analysis (20 points)\n",
    "Once you've cleaned your dataset, now you can examine your dataset using the steps we outlined in the EDA section of class, including: \n",
    "- Examing the distribution of features\n",
    "- Feature normalization and scaling\n",
    "- Examining and plotting correlation between variables\n",
    "- Detecting and Handling outliers"
   ]
  },
  {
   "cell_type": "markdown",
   "metadata": {},
   "source": [
    "## Linear Regression (or supplement with another appropriate model) (20 points)\n",
    "Once your data is in a roughly normal distribution, you can now setup your model for linear regression. The questions you ask in this section should have been guided by the results of your EDA. \n",
    "- Create your model\n",
    "- Visualize results\n",
    "- Examine error\n",
    "- Check and plot residuals"
   ]
  },
  {
   "cell_type": "markdown",
   "metadata": {},
   "source": [
    "## Conclusion (40 points)\n",
    "In this final section, you should draw conclusions based on your analysis. Each of your conclusion should be supported with visualizations and pvalues and any other appropriate measurments for your dataset. "
   ]
  }
 ],
 "metadata": {
  "kernelspec": {
   "display_name": "Python 3",
   "language": "python",
   "name": "python3"
  },
  "language_info": {
   "codemirror_mode": {
    "name": "ipython",
    "version": 3
   },
   "file_extension": ".py",
   "mimetype": "text/x-python",
   "name": "python",
   "nbconvert_exporter": "python",
   "pygments_lexer": "ipython3",
   "version": "3.7.3"
  }
 },
 "nbformat": 4,
 "nbformat_minor": 2
}
