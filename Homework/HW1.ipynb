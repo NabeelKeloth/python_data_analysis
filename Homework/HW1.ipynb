{
 "cells": [
  {
   "cell_type": "markdown",
   "metadata": {},
   "source": [
    "# HW 1\n",
    "For this assignment, you will pick out the dataset that you are going to use for your rfinal project, and apply some of the skills that we learned today in class. \n",
    "\n",
    "Fill in this Jupyter Notebook, and turn it into Canvas. You may submit either a .ipynb file or a PDF file. \n",
    "\n",
    "## Part 1: Find your dataset \n",
    "1. Read [this article](https://www.umuc.edu/current-students/learning-resources/writing-center/writing-resources/evaluating-sources.cfm) on selecting reliable resources. \n",
    "2. Select a dataset and list the URL below. \n",
    "3. Describe why you think the dataset is from a credible source. \n",
    "4. Come up with 5 questions that you might be able to ask from the dataset. "
   ]
  },
  {
   "cell_type": "markdown",
   "metadata": {},
   "source": [
    "## Part 2: Pandas Practice\n",
    "1. Download the [adult income dataset](https://archive.ics.uci.edu/ml/machine-learning-databases/adult/adult.data)\n",
    "2. Read up on the dataset [here](https://archive.ics.uci.edu/ml/datasets/adult)\n",
    "3. Create a function to read the downloaded file into pandas \n",
    "4. Take a look at the first 10 lines of the file\n",
    "5. Add the following column names: [\"age\", \"workclass\", \"fnlwgt\", \"education\", \"education_num\", \\\n",
    "                    \"marital-status\", \"occupation\", \"relationship\", \"race\", \"sex\", \\\n",
    "                    \"capital_gain\", \"capital_loss\", \"hours_per_week\", \"native_country\", \"income\"]\n",
    "6. Count the number of people in the dataset older over the age of 30 with a bachelor's degree\n",
    "7. For two points, let me know what questions or feedback you would like on this assignment. "
   ]
  }
 ],
 "metadata": {
  "kernelspec": {
   "display_name": "Python 3",
   "language": "python",
   "name": "python3"
  },
  "language_info": {
   "codemirror_mode": {
    "name": "ipython",
    "version": 3
   },
   "file_extension": ".py",
   "mimetype": "text/x-python",
   "name": "python",
   "nbconvert_exporter": "python",
   "pygments_lexer": "ipython3",
   "version": "3.7.1"
  }
 },
 "nbformat": 4,
 "nbformat_minor": 2
}
