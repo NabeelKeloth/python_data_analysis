{
 "cells": [
  {
   "cell_type": "markdown",
   "metadata": {},
   "source": [
    "# Evaluating a Linear Model\n",
    "\"Regression analysis generates an equation to describe the statistical relationship between one or more predictor variables and the response variable.\" That's a quote from the documentation from an old statistical package called minitab. It's wordy, but what it's basically saying is that creating the model is just the beginning. The interpretation of the results is the important part. \n",
    "\n",
    "We left off on our last tutorial by plotting the line of best fit. So at this point, we know how to instantiate the model, draw a line of best fit, and use our model to make predictions. \n",
    "\n",
    "Let's import our model from the lab: "
   ]
  },
  {
   "cell_type": "code",
   "execution_count": 3,
   "metadata": {},
   "outputs": [],
   "source": [
    "import matplotlib.pyplot as plt\n",
    "import numpy as np\n",
    "from sklearn import datasets, linear_model\n",
    "from sklearn.metrics import mean_squared_error, r2_score\n",
    "import pandas as pd\n",
    "import seaborn as sns\n",
    "\n",
    "# Load the diabetes dataset\n",
    "diabetes = datasets.load_diabetes()\n",
    "df_x = pd.DataFrame(diabetes.data,\n",
    "                 columns=diabetes.feature_names)\n",
    "df_y = pd.DataFrame(diabetes.target,\n",
    "                 columns=[\"diabetes\"])\n",
    "\n",
    "# split into training and test sets\n",
    "from sklearn.model_selection import train_test_split\n",
    "x_train, x_test, y_train, y_test = train_test_split(df_x, df_y, \n",
    "                                                   test_size=0.2, \n",
    "                                                   random_state=42)\n",
    "\n",
    "# instantiate the model\n",
    "from sklearn.linear_model import LinearRegression\n",
    "model = LinearRegression(fit_intercept=True,\n",
    "                        n_jobs=4)\n",
    "\n",
    "# train\n",
    "fit = model.fit(x_train, y_train)\n",
    "\n",
    "# make predictions\n",
    "preds = model.predict(x_test)"
   ]
  },
  {
   "cell_type": "markdown",
   "metadata": {},
   "source": [
    "## Evaluating Intercept\n",
    "B0, the Y-intercept, can be interpreted as the value you would predict for Y if all the features were at 0. "
   ]
  },
  {
   "cell_type": "code",
   "execution_count": 16,
   "metadata": {},
   "outputs": [
    {
     "data": {
      "text/plain": [
       "array([151.34565535])"
      ]
     },
     "execution_count": 16,
     "metadata": {},
     "output_type": "execute_result"
    }
   ],
   "source": [
    "# view y intercetp (B0)\n",
    "model.intercept_"
   ]
  },
  {
   "cell_type": "markdown",
   "metadata": {},
   "source": [
    "## Evaluating Coefficients\n",
    "Because we've trained the model and made predictions, a good first step here would be to examine our coefficients. The coefficients tell us how much each feature affects our target variable. These basically represent our slope, and represent the mean change in the response variable for one unit of change in the predictor variable while holding other predictors in the model constant.\n",
    "\n",
    "Unfortunately, we cannot use the coefficients for feature selection because each coefficient can be influenced by the other variables in a regression model and the coefficient doesn't take this effect into consideration. "
   ]
  },
  {
   "cell_type": "code",
   "execution_count": 31,
   "metadata": {},
   "outputs": [
    {
     "data": {
      "text/plain": [
       "array([[  37.90031426, -241.96624835,  542.42575342,  347.70830529,\n",
       "        -931.46126093,  518.04405547,  163.40353476,  275.31003837,\n",
       "         736.18909839,   48.67112488]])"
      ]
     },
     "execution_count": 31,
     "metadata": {},
     "output_type": "execute_result"
    }
   ],
   "source": [
    "# view coefficients\n",
    "model.coef_"
   ]
  },
  {
   "cell_type": "markdown",
   "metadata": {},
   "source": [
    "We can zip together the feature names and coefficients to see the values for each feature in relation to the target (diabetes): "
   ]
  },
  {
   "cell_type": "code",
   "execution_count": 46,
   "metadata": {},
   "outputs": [],
   "source": [
    "coef_dict = {}\n",
    "for coef, feat in zip(model.coef_[0,:],diabetes.feature_names):\n",
    "    coef_dict[feat] = coef\n"
   ]
  },
  {
   "cell_type": "code",
   "execution_count": 47,
   "metadata": {},
   "outputs": [
    {
     "data": {
      "text/plain": [
       "{'age': 37.900314258246446,\n",
       " 'sex': -241.96624835284436,\n",
       " 'bmi': 542.4257534189238,\n",
       " 'bp': 347.70830529228033,\n",
       " 's1': -931.4612609313972,\n",
       " 's2': 518.0440554737888,\n",
       " 's3': 163.40353476472802,\n",
       " 's4': 275.31003836682186,\n",
       " 's5': 736.1890983908114,\n",
       " 's6': 48.67112488280129}"
      ]
     },
     "execution_count": 47,
     "metadata": {},
     "output_type": "execute_result"
    }
   ],
   "source": [
    "coef_dict"
   ]
  },
  {
   "cell_type": "markdown",
   "metadata": {},
   "source": [
    "This basically helps us assess our prediction for Y if we know the value of a certain feature. "
   ]
  },
  {
   "cell_type": "markdown",
   "metadata": {},
   "source": [
    "## Residuals\n",
    "Before we can evaluate the error of our model. We need to check our residuals. For each data point, we measure the difference between our predicted value, and the actual value, called **redisudals**.   \n",
    "`Residual = Observed value - Predicted value`\n",
    "\n",
    "Our first step before measuring error is to see if our model is even the right one for our data. When we plot our residuals, we should see pure chaos. If we see any sort of pattern, that is a good inidcator that we're working with non-linear data. "
   ]
  },
  {
   "cell_type": "markdown",
   "metadata": {},
   "source": [
    "## Plotting Residuals\n",
    "Once we've pulled out important features, we need to test each of our columns of interset against the response variable to see if there is any pattern to the residuals using [seaborn's residplot()](https://seaborn.pydata.org/generated/seaborn.residplot.html)"
   ]
  },
  {
   "cell_type": "code",
   "execution_count": 7,
   "metadata": {},
   "outputs": [
    {
     "data": {
      "text/plain": [
       "Index(['age', 'sex', 'bmi', 'bp', 's1', 's2', 's3', 's4', 's5', 's6'], dtype='object')"
      ]
     },
     "execution_count": 7,
     "metadata": {},
     "output_type": "execute_result"
    }
   ],
   "source": [
    "x_train.columns"
   ]
  },
  {
   "cell_type": "code",
   "execution_count": 10,
   "metadata": {},
   "outputs": [
    {
     "data": {
      "text/plain": [
       "Text(0.5, 1.0, 'Residual plot')"
      ]
     },
     "execution_count": 10,
     "metadata": {},
     "output_type": "execute_result"
    },
    {
     "data": {
      "image/png": "[encoded data removed]",
      "text/plain": [
       "<Figure size 432x288 with 1 Axes>"
      ]
     },
     "metadata": {
      "needs_background": "light"
     },
     "output_type": "display_data"
    }
   ],
   "source": [
    "sns.residplot(x_train.age, y_train)\n",
    "plt.xlabel(\"Fitted values\")\n",
    "plt.title('Residual plot')"
   ]
  },
  {
   "cell_type": "markdown",
   "metadata": {},
   "source": [
    "We would want to check this for each of the features we found to have strong correlation with our target. We can see that the residuals for age vs diabetes does not show any patterns and thus would work well in a linear regression model. "
   ]
  },
  {
   "cell_type": "markdown",
   "metadata": {},
   "source": [
    "## Measuring Error\n",
    "Now that we've checked the residuals for each of the relevant columns, we can evaluate the error in our linear model. \n",
    "\n",
    "There are three main errors (metrics) used to evaluate models, Mean absolute error, Mean Squared error and R2 score.\n",
    "\n",
    "### Mean Absolute Error\n",
    "Since we have our line of best fit, we can measure the distance between each point and the line to calculate the error (residuals). Because this measurement can be either positive or negative, we take the absolute value of each value so the effects of the signs don't cancel each other out, and sum the values, then take the average. \n",
    "\n",
    "#### Steps for calculating MSE\n",
    "1. Measure error- for linear regression, this is the distance between each point and the line of best fit\n",
    "2. Take the absolute value of the error at each data point\n",
    "3. Calculate the mean"
   ]
  },
  {
   "cell_type": "code",
   "execution_count": 14,
   "metadata": {},
   "outputs": [],
   "source": [
    "from sklearn.metrics import mean_absolute_error\n",
    "MAE = mean_absolute_error(y_test, preds)"
   ]
  },
  {
   "cell_type": "code",
   "execution_count": 15,
   "metadata": {},
   "outputs": [
    {
     "data": {
      "text/plain": [
       "42.79389304196525"
      ]
     },
     "execution_count": 15,
     "metadata": {},
     "output_type": "execute_result"
    }
   ],
   "source": [
    "MAE"
   ]
  },
  {
   "cell_type": "code",
   "execution_count": null,
   "metadata": {},
   "outputs": [],
   "source": [
    "The MAE represents the average error between our two values"
   ]
  },
  {
   "cell_type": "code",
   "execution_count": null,
   "metadata": {},
   "outputs": [],
   "source": []
  },
  {
   "cell_type": "code",
   "execution_count": null,
   "metadata": {},
   "outputs": [],
   "source": []
  },
  {
   "cell_type": "code",
   "execution_count": null,
   "metadata": {},
   "outputs": [],
   "source": []
  },
  {
   "cell_type": "code",
   "execution_count": null,
   "metadata": {},
   "outputs": [],
   "source": [
    "\"Accuracy Score: {}\".format(model.score(x_test, y_test))"
   ]
  }
 ],
 "metadata": {
  "kernelspec": {
   "display_name": "Python 3",
   "language": "python",
   "name": "python3"
  },
  "language_info": {
   "codemirror_mode": {
    "name": "ipython",
    "version": 3
   },
   "file_extension": ".py",
   "mimetype": "text/x-python",
   "name": "python",
   "nbconvert_exporter": "python",
   "pygments_lexer": "ipython3",
   "version": "3.7.3"
  }
 },
 "nbformat": 4,
 "nbformat_minor": 2
}
