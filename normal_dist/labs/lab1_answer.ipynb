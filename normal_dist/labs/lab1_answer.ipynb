{
 "cells": [
  {
   "cell_type": "markdown",
   "metadata": {},
   "source": [
    "# Lab 1: Normality Testing\n",
    "\n",
    "## Part 1\n",
    "For this lab we'll test the normality of the Iris dataset columns. For each column in the Iris dataset, test the assumption of a normal distribution using the methods we learned about in the walkthrough. "
   ]
  },
  {
   "cell_type": "code",
   "execution_count": 21,
   "metadata": {},
   "outputs": [],
   "source": [
    "from sklearn import datasets\n",
    "import pandas as pd\n",
    "import numpy as np\n",
    "import matplotlib.pyplot as plt\n",
    "%matplotlib inline\n",
    "\n",
    "# import iris dataset\n",
    "iris = datasets.load_iris()\n",
    "iris_df = pd.DataFrame(iris.data, \n",
    "                      columns=[\"sepal_length\", \"sepal_width\", \"petal_length\", \"petal_width\"])"
   ]
  },
  {
   "cell_type": "code",
   "execution_count": 22,
   "metadata": {},
   "outputs": [
    {
     "data": {
      "text/html": [
       "<div>\n",
       "<style scoped>\n",
       "    .dataframe tbody tr th:only-of-type {\n",
       "        vertical-align: middle;\n",
       "    }\n",
       "\n",
       "    .dataframe tbody tr th {\n",
       "        vertical-align: top;\n",
       "    }\n",
       "\n",
       "    .dataframe thead th {\n",
       "        text-align: right;\n",
       "    }\n",
       "</style>\n",
       "<table border=\"1\" class=\"dataframe\">\n",
       "  <thead>\n",
       "    <tr style=\"text-align: right;\">\n",
       "      <th></th>\n",
       "      <th>sepal_length</th>\n",
       "      <th>sepal_width</th>\n",
       "      <th>petal_length</th>\n",
       "      <th>petal_width</th>\n",
       "    </tr>\n",
       "  </thead>\n",
       "  <tbody>\n",
       "    <tr>\n",
       "      <th>0</th>\n",
       "      <td>5.1</td>\n",
       "      <td>3.5</td>\n",
       "      <td>1.4</td>\n",
       "      <td>0.2</td>\n",
       "    </tr>\n",
       "    <tr>\n",
       "      <th>1</th>\n",
       "      <td>4.9</td>\n",
       "      <td>3.0</td>\n",
       "      <td>1.4</td>\n",
       "      <td>0.2</td>\n",
       "    </tr>\n",
       "    <tr>\n",
       "      <th>2</th>\n",
       "      <td>4.7</td>\n",
       "      <td>3.2</td>\n",
       "      <td>1.3</td>\n",
       "      <td>0.2</td>\n",
       "    </tr>\n",
       "    <tr>\n",
       "      <th>3</th>\n",
       "      <td>4.6</td>\n",
       "      <td>3.1</td>\n",
       "      <td>1.5</td>\n",
       "      <td>0.2</td>\n",
       "    </tr>\n",
       "    <tr>\n",
       "      <th>4</th>\n",
       "      <td>5.0</td>\n",
       "      <td>3.6</td>\n",
       "      <td>1.4</td>\n",
       "      <td>0.2</td>\n",
       "    </tr>\n",
       "  </tbody>\n",
       "</table>\n",
       "</div>"
      ],
      "text/plain": [
       "   sepal_length  sepal_width  petal_length  petal_width\n",
       "0           5.1          3.5           1.4          0.2\n",
       "1           4.9          3.0           1.4          0.2\n",
       "2           4.7          3.2           1.3          0.2\n",
       "3           4.6          3.1           1.5          0.2\n",
       "4           5.0          3.6           1.4          0.2"
      ]
     },
     "execution_count": 22,
     "metadata": {},
     "output_type": "execute_result"
    }
   ],
   "source": [
    "iris_df.head()"
   ]
  },
  {
   "cell_type": "markdown",
   "metadata": {},
   "source": [
    "## Visualizations"
   ]
  },
  {
   "cell_type": "code",
   "execution_count": 49,
   "metadata": {},
   "outputs": [
    {
     "data": {
      "image/png": "[encoded data removed]",
      "text/plain": [
       "<Figure size 432x288 with 1 Axes>"
      ]
     },
     "metadata": {
      "needs_background": "light"
     },
     "output_type": "display_data"
    }
   ],
   "source": [
    "# Histogram for each column\n",
    "for col in iris_df.columns:\n",
    "    \n",
    "    # Draw the plot\n",
    "    iris_df[col].plot(kind='density')\n",
    "    \n",
    "    # Title and labels\n",
    "    ax.set_title('Iris Petal and Width Distribution')\n",
    "\n",
    "plt.tight_layout()\n",
    "plt.legend(prop={'size': 12}, title = 'Feature')\n",
    "plt.show()"
   ]
  },
  {
   "cell_type": "code",
   "execution_count": 50,
   "metadata": {},
   "outputs": [
    {
     "data": {
      "text/plain": [
       "<matplotlib.axes._subplots.AxesSubplot at 0x1a23ab3cc0>"
      ]
     },
     "execution_count": 50,
     "metadata": {},
     "output_type": "execute_result"
    },
    {
     "data": {
      "image/png": "[encoded data removed]",
      "text/plain": [
       "<Figure size 432x288 with 1 Axes>"
      ]
     },
     "metadata": {
      "needs_background": "light"
     },
     "output_type": "display_data"
    }
   ],
   "source": [
    "iris_df.boxplot()"
   ]
  },
  {
   "cell_type": "code",
   "execution_count": 103,
   "metadata": {},
   "outputs": [
    {
     "data": {
      "image/png": "[encoded data removed]",
      "text/plain": [
       "<Figure size 432x288 with 4 Axes>"
      ]
     },
     "metadata": {
      "needs_background": "light"
     },
     "output_type": "display_data"
    }
   ],
   "source": [
    "import scipy.stats as stats\n",
    "\n",
    "fig = plt.figure()\n",
    "ax = fig.add_subplot(221)\n",
    "stats.probplot(iris_df.petal_length, dist=\"norm\", plot=plt)\n",
    "ax.set_title(\"Petal Length\")\n",
    "\n",
    "ax = fig.add_subplot(222)\n",
    "stats.probplot(iris_df.petal_width, dist=\"norm\", plot=plt)\n",
    "ax.set_title(\"Petal Width\")\n",
    "\n",
    "ax = fig.add_subplot(223)\n",
    "stats.probplot(iris_df.sepal_length, dist=\"norm\", plot=plt)\n",
    "ax.set_title(\"Sepal Length\")\n",
    "\n",
    "ax = fig.add_subplot(224)\n",
    "stats.probplot(iris_df.sepal_width, dist=\"norm\", plot=plt)\n",
    "ax.set_title(\"Sepal Width\")\n",
    "\n",
    "plt.show()\n",
    "\n",
    "\n",
    "\n",
    "\n"
   ]
  },
  {
   "cell_type": "markdown",
   "metadata": {},
   "source": [
    "## Statistical Metrics"
   ]
  },
  {
   "cell_type": "markdown",
   "metadata": {},
   "source": [
    "### Shapiro Wilk"
   ]
  },
  {
   "cell_type": "code",
   "execution_count": 104,
   "metadata": {},
   "outputs": [
    {
     "name": "stdout",
     "output_type": "stream",
     "text": [
      "W-statistic= 0.8762688040733337, Pvalue= 7.412849778454245e-10\n",
      "Sample does not look Gaussian (reject H0)\n"
     ]
    }
   ],
   "source": [
    "from scipy.stats import shapiro\n",
    "\n",
    "# run shapiro test and return the test stat and p value\n",
    "W_stat, p = shapiro(iris_df.petal_length)\n",
    "print(\"W-statistic= {}, Pvalue= {}\".format(W_stat, p))\n",
    "\n",
    "# interpret the results\n",
    "alpha = 0.05\n",
    "if p > alpha:\n",
    "    print('Sample looks Gaussian (fail to reject H0)')\n",
    "else:\n",
    "    print('Sample does not look Gaussian (reject H0)')"
   ]
  },
  {
   "cell_type": "code",
   "execution_count": 105,
   "metadata": {},
   "outputs": [
    {
     "name": "stdout",
     "output_type": "stream",
     "text": [
      "W-statistic= 0.9018339514732361, Pvalue= 1.6802413682626138e-08\n",
      "Sample does not look Gaussian (reject H0)\n"
     ]
    }
   ],
   "source": [
    "from scipy.stats import shapiro\n",
    "\n",
    "# run shapiro test and return the test stat and p value\n",
    "W_stat, p = shapiro(iris_df.petal_width)\n",
    "print(\"W-statistic= {}, Pvalue= {}\".format(W_stat, p))\n",
    "\n",
    "# interpret the results\n",
    "alpha = 0.05\n",
    "if p > alpha:\n",
    "    print('Sample looks Gaussian (fail to reject H0)')\n",
    "else:\n",
    "    print('Sample does not look Gaussian (reject H0)')"
   ]
  },
  {
   "cell_type": "code",
   "execution_count": 106,
   "metadata": {},
   "outputs": [
    {
     "name": "stdout",
     "output_type": "stream",
     "text": [
      "W-statistic= 0.9760897755622864, Pvalue= 0.01017984002828598\n",
      "Sample does not look Gaussian (reject H0)\n"
     ]
    }
   ],
   "source": [
    "from scipy.stats import shapiro\n",
    "\n",
    "# run shapiro test and return the test stat and p value\n",
    "W_stat, p = shapiro(iris_df.sepal_length)\n",
    "print(\"W-statistic= {}, Pvalue= {}\".format(W_stat, p))\n",
    "\n",
    "# interpret the results\n",
    "alpha = 0.05\n",
    "if p > alpha:\n",
    "    print('Sample looks Gaussian (fail to reject H0)')\n",
    "else:\n",
    "    print('Sample does not look Gaussian (reject H0)')"
   ]
  },
  {
   "cell_type": "code",
   "execution_count": 107,
   "metadata": {},
   "outputs": [
    {
     "name": "stdout",
     "output_type": "stream",
     "text": [
      "W-statistic= 0.9849170446395874, Pvalue= 0.10113201290369034\n",
      "Sample looks Gaussian (fail to reject H0)\n"
     ]
    }
   ],
   "source": [
    "from scipy.stats import shapiro\n",
    "\n",
    "# run shapiro test and return the test stat and p value\n",
    "W_stat, p = shapiro(iris_df.sepal_width)\n",
    "print(\"W-statistic= {}, Pvalue= {}\".format(W_stat, p))\n",
    "\n",
    "# interpret the results\n",
    "alpha = 0.05\n",
    "if p > alpha:\n",
    "    print('Sample looks Gaussian (fail to reject H0)')\n",
    "else:\n",
    "    print('Sample does not look Gaussian (reject H0)')"
   ]
  },
  {
   "cell_type": "markdown",
   "metadata": {},
   "source": [
    "### D'agostino's K Squared"
   ]
  },
  {
   "cell_type": "code",
   "execution_count": 108,
   "metadata": {},
   "outputs": [
    {
     "name": "stdout",
     "output_type": "stream",
     "text": [
      "K^2 Stat= 137.55596543193647, Pvalue= 1.3492785927137586e-30\n",
      "Sample does not look Gaussian (reject H0)\n"
     ]
    }
   ],
   "source": [
    "from scipy.stats import normaltest\n",
    "\n",
    "# normality test\n",
    "k2_stat, p = normaltest(iris_df.petal_width)\n",
    "print('K^2 Stat= {}, Pvalue= {}'.format(k2_stat, p))\n",
    "# interpret\n",
    "alpha = 0.05\n",
    "if p > alpha:\n",
    "    print('Sample looks Gaussian (fail to reject H0)')\n",
    "else:\n",
    "    print('Sample does not look Gaussian (reject H0)')"
   ]
  },
  {
   "cell_type": "code",
   "execution_count": 109,
   "metadata": {},
   "outputs": [
    {
     "name": "stdout",
     "output_type": "stream",
     "text": [
      "K^2 Stat= 221.68729405585384, Pvalue= 7.264667501338673e-49\n",
      "Sample does not look Gaussian (reject H0)\n"
     ]
    }
   ],
   "source": [
    "from scipy.stats import normaltest\n",
    "\n",
    "# normality test\n",
    "k2_stat, p = normaltest(iris_df.petal_length)\n",
    "print('K^2 Stat= {}, Pvalue= {}'.format(k2_stat, p))\n",
    "# interpret\n",
    "alpha = 0.05\n",
    "if p > alpha:\n",
    "    print('Sample looks Gaussian (fail to reject H0)')\n",
    "else:\n",
    "    print('Sample does not look Gaussian (reject H0)')"
   ]
  },
  {
   "cell_type": "code",
   "execution_count": 110,
   "metadata": {},
   "outputs": [
    {
     "name": "stdout",
     "output_type": "stream",
     "text": [
      "K^2 Stat= 3.1238322481520377, Pvalue= 0.2097338099298262\n",
      "Sample looks Gaussian (fail to reject H0)\n"
     ]
    }
   ],
   "source": [
    "from scipy.stats import normaltest\n",
    "\n",
    "# normality test\n",
    "k2_stat, p = normaltest(iris_df.sepal_width)\n",
    "print('K^2 Stat= {}, Pvalue= {}'.format(k2_stat, p))\n",
    "# interpret\n",
    "alpha = 0.05\n",
    "if p > alpha:\n",
    "    print('Sample looks Gaussian (fail to reject H0)')\n",
    "else:\n",
    "    print('Sample does not look Gaussian (reject H0)')"
   ]
  },
  {
   "cell_type": "code",
   "execution_count": 111,
   "metadata": {},
   "outputs": [
    {
     "name": "stdout",
     "output_type": "stream",
     "text": [
      "K^2 Stat= 5.735584236235733, Pvalue= 0.05682424941067306\n",
      "Sample looks Gaussian (fail to reject H0)\n"
     ]
    }
   ],
   "source": [
    "from scipy.stats import normaltest\n",
    "\n",
    "# normality test\n",
    "k2_stat, p = normaltest(iris_df.sepal_length)\n",
    "print('K^2 Stat= {}, Pvalue= {}'.format(k2_stat, p))\n",
    "# interpret\n",
    "alpha = 0.05\n",
    "if p > alpha:\n",
    "    print('Sample looks Gaussian (fail to reject H0)')\n",
    "else:\n",
    "    print('Sample does not look Gaussian (reject H0)')"
   ]
  },
  {
   "cell_type": "markdown",
   "metadata": {},
   "source": [
    "### Anderson Darling"
   ]
  },
  {
   "cell_type": "code",
   "execution_count": 112,
   "metadata": {},
   "outputs": [
    {
     "name": "stdout",
     "output_type": "stream",
     "text": [
      "Test Statistic: 0.8891994860134105\n",
      "Significance: 15.0 \n",
      " Pval cutoff: 0.562 - Data does not look normal (reject H0)\n",
      "Significance: 10.0 \n",
      " Pval cutoff: 0.64 - Data does not look normal (reject H0)\n",
      "Significance: 5.0 \n",
      " Pval cutoff: 0.767 - Data does not look normal (reject H0)\n",
      "Significance: 2.5 \n",
      " Pval cutoff: 0.895 - Data looks normal (fail to reject H0)\n",
      "Significance: 1.0 \n",
      " Pval cutoff: 1.065 - Data looks normal (fail to reject H0)\n"
     ]
    }
   ],
   "source": [
    "from scipy.stats import anderson\n",
    "\n",
    "# anderson test\n",
    "result = anderson(iris_df.sepal_length)\n",
    "\n",
    "print('Test Statistic: {}'.format(result.statistic))\n",
    "\n",
    "p = 0\n",
    "for i in range(len(result.critical_values)):\n",
    "    sl, cv = result.significance_level[i], result.critical_values[i]\n",
    "    if result.statistic < result.critical_values[i]:\n",
    "        print('Significance: {} \\n Pval cutoff: {} - Data looks normal (fail to reject H0)'.format(sl, cv))\n",
    "    else:\n",
    "        print('Significance: {} \\n Pval cutoff: {} - Data does not look normal (reject H0)'.format(sl, cv))"
   ]
  },
  {
   "cell_type": "code",
   "execution_count": 113,
   "metadata": {},
   "outputs": [
    {
     "name": "stdout",
     "output_type": "stream",
     "text": [
      "Test Statistic: 0.9079550471145126\n",
      "Significance: 15.0 \n",
      " Pval cutoff: 0.562 - Data does not look normal (reject H0)\n",
      "Significance: 10.0 \n",
      " Pval cutoff: 0.64 - Data does not look normal (reject H0)\n",
      "Significance: 5.0 \n",
      " Pval cutoff: 0.767 - Data does not look normal (reject H0)\n",
      "Significance: 2.5 \n",
      " Pval cutoff: 0.895 - Data does not look normal (reject H0)\n",
      "Significance: 1.0 \n",
      " Pval cutoff: 1.065 - Data looks normal (fail to reject H0)\n"
     ]
    }
   ],
   "source": [
    "from scipy.stats import anderson\n",
    "\n",
    "# anderson test\n",
    "result = anderson(iris_df.sepal_width)\n",
    "\n",
    "print('Test Statistic: {}'.format(result.statistic))\n",
    "\n",
    "p = 0\n",
    "for i in range(len(result.critical_values)):\n",
    "    sl, cv = result.significance_level[i], result.critical_values[i]\n",
    "    if result.statistic < result.critical_values[i]:\n",
    "        print('Significance: {} \\n Pval cutoff: {} - Data looks normal (fail to reject H0)'.format(sl, cv))\n",
    "    else:\n",
    "        print('Significance: {} \\n Pval cutoff: {} - Data does not look normal (reject H0)'.format(sl, cv))"
   ]
  },
  {
   "cell_type": "code",
   "execution_count": 114,
   "metadata": {},
   "outputs": [
    {
     "name": "stdout",
     "output_type": "stream",
     "text": [
      "Test Statistic: 7.6785455198266845\n",
      "Significance: 15.0 \n",
      " Pval cutoff: 0.562 - Data does not look normal (reject H0)\n",
      "Significance: 10.0 \n",
      " Pval cutoff: 0.64 - Data does not look normal (reject H0)\n",
      "Significance: 5.0 \n",
      " Pval cutoff: 0.767 - Data does not look normal (reject H0)\n",
      "Significance: 2.5 \n",
      " Pval cutoff: 0.895 - Data does not look normal (reject H0)\n",
      "Significance: 1.0 \n",
      " Pval cutoff: 1.065 - Data does not look normal (reject H0)\n"
     ]
    }
   ],
   "source": [
    "from scipy.stats import anderson\n",
    "\n",
    "# anderson test\n",
    "result = anderson(iris_df.petal_length)\n",
    "\n",
    "print('Test Statistic: {}'.format(result.statistic))\n",
    "\n",
    "p = 0\n",
    "for i in range(len(result.critical_values)):\n",
    "    sl, cv = result.significance_level[i], result.critical_values[i]\n",
    "    if result.statistic < result.critical_values[i]:\n",
    "        print('Significance: {} \\n Pval cutoff: {} - Data looks normal (fail to reject H0)'.format(sl, cv))\n",
    "    else:\n",
    "        print('Significance: {} \\n Pval cutoff: {} - Data does not look normal (reject H0)'.format(sl, cv))"
   ]
  },
  {
   "cell_type": "code",
   "execution_count": 115,
   "metadata": {},
   "outputs": [
    {
     "name": "stdout",
     "output_type": "stream",
     "text": [
      "Test Statistic: 5.1056620354169695\n",
      "Significance: 15.0 \n",
      " Pval cutoff: 0.562 - Data does not look normal (reject H0)\n",
      "Significance: 10.0 \n",
      " Pval cutoff: 0.64 - Data does not look normal (reject H0)\n",
      "Significance: 5.0 \n",
      " Pval cutoff: 0.767 - Data does not look normal (reject H0)\n",
      "Significance: 2.5 \n",
      " Pval cutoff: 0.895 - Data does not look normal (reject H0)\n",
      "Significance: 1.0 \n",
      " Pval cutoff: 1.065 - Data does not look normal (reject H0)\n"
     ]
    }
   ],
   "source": [
    "from scipy.stats import anderson\n",
    "\n",
    "# anderson test\n",
    "result = anderson(iris_df.petal_width)\n",
    "\n",
    "print('Test Statistic: {}'.format(result.statistic))\n",
    "\n",
    "p = 0\n",
    "for i in range(len(result.critical_values)):\n",
    "    sl, cv = result.significance_level[i], result.critical_values[i]\n",
    "    if result.statistic < result.critical_values[i]:\n",
    "        print('Significance: {} \\n Pval cutoff: {} - Data looks normal (fail to reject H0)'.format(sl, cv))\n",
    "    else:\n",
    "        print('Significance: {} \\n Pval cutoff: {} - Data does not look normal (reject H0)'.format(sl, cv))"
   ]
  },
  {
   "cell_type": "markdown",
   "metadata": {},
   "source": [
    "## Part 2 - Summarize your results\n",
    "Based on the tests above, summarize your results and support your conclusions with evidence from your testing. "
   ]
  },
  {
   "cell_type": "code",
   "execution_count": 116,
   "metadata": {},
   "outputs": [
    {
     "data": {
      "text/plain": [
       "3.7580000000000027"
      ]
     },
     "execution_count": 116,
     "metadata": {},
     "output_type": "execute_result"
    }
   ],
   "source": [
    "iris_df.petal_length.mean()"
   ]
  },
  {
   "cell_type": "code",
   "execution_count": 120,
   "metadata": {},
   "outputs": [
    {
     "data": {
      "text/plain": [
       "1.7652982332594667"
      ]
     },
     "execution_count": 120,
     "metadata": {},
     "output_type": "execute_result"
    }
   ],
   "source": [
    "iris_df.petal_length.std()"
   ]
  },
  {
   "cell_type": "code",
   "execution_count": 117,
   "metadata": {},
   "outputs": [
    {
     "data": {
      "text/plain": [
       "1.199333333333334"
      ]
     },
     "execution_count": 117,
     "metadata": {},
     "output_type": "execute_result"
    }
   ],
   "source": [
    "iris_df.petal_width.mean()"
   ]
  },
  {
   "cell_type": "code",
   "execution_count": 121,
   "metadata": {},
   "outputs": [
    {
     "data": {
      "text/plain": [
       "0.7622376689603465"
      ]
     },
     "execution_count": 121,
     "metadata": {},
     "output_type": "execute_result"
    }
   ],
   "source": [
    "iris_df.petal_width.std()"
   ]
  },
  {
   "cell_type": "code",
   "execution_count": 118,
   "metadata": {},
   "outputs": [
    {
     "data": {
      "text/plain": [
       "5.843333333333335"
      ]
     },
     "execution_count": 118,
     "metadata": {},
     "output_type": "execute_result"
    }
   ],
   "source": [
    "iris_df.sepal_length.mean()"
   ]
  },
  {
   "cell_type": "code",
   "execution_count": 122,
   "metadata": {},
   "outputs": [
    {
     "data": {
      "text/plain": [
       "0.8280661279778629"
      ]
     },
     "execution_count": 122,
     "metadata": {},
     "output_type": "execute_result"
    }
   ],
   "source": [
    "iris_df.sepal_length.std()"
   ]
  },
  {
   "cell_type": "code",
   "execution_count": 119,
   "metadata": {},
   "outputs": [
    {
     "data": {
      "text/plain": [
       "3.057333333333334"
      ]
     },
     "execution_count": 119,
     "metadata": {},
     "output_type": "execute_result"
    }
   ],
   "source": [
    "iris_df.sepal_width.mean()"
   ]
  },
  {
   "cell_type": "code",
   "execution_count": 123,
   "metadata": {},
   "outputs": [
    {
     "data": {
      "text/plain": [
       "0.435866284936698"
      ]
     },
     "execution_count": 123,
     "metadata": {},
     "output_type": "execute_result"
    }
   ],
   "source": [
    "iris_df.sepal_width.std()"
   ]
  },
  {
   "cell_type": "code",
   "execution_count": null,
   "metadata": {},
   "outputs": [],
   "source": []
  }
 ],
 "metadata": {
  "kernelspec": {
   "display_name": "Python 3",
   "language": "python",
   "name": "python3"
  },
  "language_info": {
   "codemirror_mode": {
    "name": "ipython",
    "version": 3
   },
   "file_extension": ".py",
   "mimetype": "text/x-python",
   "name": "python",
   "nbconvert_exporter": "python",
   "pygments_lexer": "ipython3",
   "version": "3.7.3"
  }
 },
 "nbformat": 4,
 "nbformat_minor": 2
}
