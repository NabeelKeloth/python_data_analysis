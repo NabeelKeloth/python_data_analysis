{
 "cells": [
  {
   "attachments": {
    "image.png": {
     "image/png": "[encoded data removed]"
    }
   },
   "cell_type": "markdown",
   "metadata": {},
   "source": [
    "# Probability Distributions\n",
    "Many standard statistical models operate under the assumption that your dataset takes on a certain distribution, such a Gaussian (normal). The probability distribution describes the array of all possible outcomes that a random variable can take, along with the probability of each possibility. Depending on the random variable and the situation, a number of different distributions are possible. \n",
    "\n",
    "![prob_dist](./probabilty_dist.png)\n",
    "\n",
    "## Discrete vs Continuous Random Variables\n",
    "Let's say we blindly pick a random variable X from our dataset. The possible values for X can be described as discrete if X can only take on a certain number of distinct values, such as in a coin flip where X can only equal heads or tails, and continuous if X can take on an infinite number of possible values, such as weight or height. \n",
    "\n",
    "### Discrete Variables\n",
    "If X is discrete and can only take on a limited set of values, then we can calculate the probility that X is either heads or tails, called it's **probability mass function**. Examples of these types of distributions are Bernoulli, Binomial and Poisson. \n",
    "- `disrete_X = [\"heads\", \"tails\"]`\n",
    "- `P(X) = 1/2`\n",
    "\n",
    "### Continuous Variables\n",
    "For a continuous X, the probability that X can belong to any particular range of values is known as it's **probability density function**. Rather than trying to determine the probability that X is equal to a specific value, we are interested in the probability that X falls in the range of real numbers. \n",
    "- `continuous_X = ∞`  \n",
    "- `P(X=x) = 0` Because X can take on any, or all, real values \n",
    "\n",
    "Even though we cannot calculate the probability that X equals a particular random number, we can calculate the probability that a value, k, lies within the range of X, by calculating the probability density function for X, and determining if k falls in the area under the curve. \n",
    "![image.png](attachment:image.png)\n",
    "Where:\n",
    "- μ (mu) is the population mean\n",
    "- σ (sigma) is the standard deviation\n",
    "- σ2 is the variance\n",
    "\n",
    "![standard_dist](standard_dist.png)\n",
    "\n",
    "### Properties of a continuous probability distribution\n",
    "- We can see above that on the y axis, any output value from a probability density function is greater than or equal to zero\n",
    "- As discussed above, the output of a PDF  "
   ]
  },
  {
   "attachments": {},
   "cell_type": "markdown",
   "metadata": {},
   "source": [
    "## Standard Normal Distribution\n",
    "The most famous, and most widely used, probability distribution function is the Gaussian, or standard normal, distribution. \n",
    "\n",
    "A Gaussian distribution has the following properties: \n",
    "- Mean = 0\n",
    "- Standard deviation = 1\n",
    "\n",
    "\n"
   ]
  },
  {
   "cell_type": "code",
   "execution_count": null,
   "metadata": {},
   "outputs": [],
   "source": []
  }
 ],
 "metadata": {
  "kernelspec": {
   "display_name": "Python 3",
   "language": "python",
   "name": "python3"
  },
  "language_info": {
   "codemirror_mode": {
    "name": "ipython",
    "version": 3
   },
   "file_extension": ".py",
   "mimetype": "text/x-python",
   "name": "python",
   "nbconvert_exporter": "python",
   "pygments_lexer": "ipython3",
   "version": "3.7.3"
  }
 },
 "nbformat": 4,
 "nbformat_minor": 2
}
