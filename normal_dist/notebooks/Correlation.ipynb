{
 "cells": [
  {
   "cell_type": "markdown",
   "metadata": {},
   "source": [
    "# Vairance, Covariance and Correlation\n",
    "You'll hear these terms a lot in statistics because they are all common measurements of the relationship between variables in an analysis. \n",
    "\n",
    "Many statistical models operate under the assumption that your features are independent, so we must statistically check that this is true so that we can select an appropriate model. \n",
    "\n",
    "We'll walk through some examples of each to get a better understanding of how they work. Let's start by creating a random dataset: "
   ]
  },
  {
   "cell_type": "code",
   "execution_count": 5,
   "metadata": {},
   "outputs": [],
   "source": [
    "import pandas as pd\n",
    "import numpy as np\n",
    "\n",
    "# Setting a seed so the example is reproducible \n",
    "np.random.seed(42)\n",
    "\n",
    "# choose random mumbers between 0 and 50 for 5 rows and 2 columns\n",
    "df = pd.DataFrame(np.random.randint(0,50, size= (10, 2)), \n",
    "                  columns= ['ad_clicks', 'products_purchased']) "
   ]
  },
  {
   "cell_type": "code",
   "execution_count": 6,
   "metadata": {},
   "outputs": [
    {
     "data": {
      "text/html": [
       "<div>\n",
       "<style scoped>\n",
       "    .dataframe tbody tr th:only-of-type {\n",
       "        vertical-align: middle;\n",
       "    }\n",
       "\n",
       "    .dataframe tbody tr th {\n",
       "        vertical-align: top;\n",
       "    }\n",
       "\n",
       "    .dataframe thead th {\n",
       "        text-align: right;\n",
       "    }\n",
       "</style>\n",
       "<table border=\"1\" class=\"dataframe\">\n",
       "  <thead>\n",
       "    <tr style=\"text-align: right;\">\n",
       "      <th></th>\n",
       "      <th>ad_clicks</th>\n",
       "      <th>products_purchased</th>\n",
       "    </tr>\n",
       "  </thead>\n",
       "  <tbody>\n",
       "    <tr>\n",
       "      <th>0</th>\n",
       "      <td>38</td>\n",
       "      <td>28</td>\n",
       "    </tr>\n",
       "    <tr>\n",
       "      <th>1</th>\n",
       "      <td>14</td>\n",
       "      <td>42</td>\n",
       "    </tr>\n",
       "    <tr>\n",
       "      <th>2</th>\n",
       "      <td>7</td>\n",
       "      <td>20</td>\n",
       "    </tr>\n",
       "    <tr>\n",
       "      <th>3</th>\n",
       "      <td>38</td>\n",
       "      <td>18</td>\n",
       "    </tr>\n",
       "    <tr>\n",
       "      <th>4</th>\n",
       "      <td>22</td>\n",
       "      <td>10</td>\n",
       "    </tr>\n",
       "    <tr>\n",
       "      <th>5</th>\n",
       "      <td>10</td>\n",
       "      <td>23</td>\n",
       "    </tr>\n",
       "    <tr>\n",
       "      <th>6</th>\n",
       "      <td>35</td>\n",
       "      <td>39</td>\n",
       "    </tr>\n",
       "    <tr>\n",
       "      <th>7</th>\n",
       "      <td>23</td>\n",
       "      <td>2</td>\n",
       "    </tr>\n",
       "    <tr>\n",
       "      <th>8</th>\n",
       "      <td>21</td>\n",
       "      <td>1</td>\n",
       "    </tr>\n",
       "    <tr>\n",
       "      <th>9</th>\n",
       "      <td>23</td>\n",
       "      <td>43</td>\n",
       "    </tr>\n",
       "  </tbody>\n",
       "</table>\n",
       "</div>"
      ],
      "text/plain": [
       "   ad_clicks  products_purchased\n",
       "0         38                  28\n",
       "1         14                  42\n",
       "2          7                  20\n",
       "3         38                  18\n",
       "4         22                  10\n",
       "5         10                  23\n",
       "6         35                  39\n",
       "7         23                   2\n",
       "8         21                   1\n",
       "9         23                  43"
      ]
     },
     "execution_count": 6,
     "metadata": {},
     "output_type": "execute_result"
    }
   ],
   "source": [
    "df"
   ]
  },
  {
   "cell_type": "markdown",
   "metadata": {},
   "source": [
    "## Variance\n",
    "As we've seen in the last few lessons, variance is a measurment of how far a single data point is from the mean and can be calculated as:   \n",
    "        ![variance](./variance.png)\n",
    "        \n",
    "Where:   \n",
    "- S^2 = variance\n",
    "- x = data point\n",
    "- xbar = mean\n",
    "- n = number of data points\n",
    "- We sum the difference of each data point from the mean, square the result and divide by degrees of freedom\n",
    "- We are subtracting one for degrees of freedom (to signify that if we randomly sample from all the numbers in our datset, when we get down to the last number in the set, we are not actually able to select at random)\n",
    "\n",
    "We can easily calculate this in pandas: "
   ]
  },
  {
   "cell_type": "code",
   "execution_count": 7,
   "metadata": {},
   "outputs": [
    {
     "data": {
      "text/plain": [
       "122.76666666666668"
      ]
     },
     "execution_count": 7,
     "metadata": {},
     "output_type": "execute_result"
    }
   ],
   "source": [
    "df['ad_clicks'].var()"
   ]
  },
  {
   "cell_type": "code",
   "execution_count": 11,
   "metadata": {},
   "outputs": [
    {
     "data": {
      "text/plain": [
       "240.93333333333334"
      ]
     },
     "execution_count": 11,
     "metadata": {},
     "output_type": "execute_result"
    }
   ],
   "source": [
    "df.products_purchased.var()"
   ]
  },
  {
   "cell_type": "markdown",
   "metadata": {},
   "source": [
    "### Properties of Variance\n",
    "Variance measures the overall spread of the data points in this feature from the mean, and can be more easily understood using the square root, **standard deviation**. \n",
    "- A constant randome variable has a variance of 0\n",
    "- Non-negative (squares are positive)\n",
    "\n",
    "## Covariance\n",
    "Covariance measures the degree of change (variance) between two the variables; if one variable changes, will there be a similar change in the other variable? We can calculate covariance as: \n",
    "    ![covariance](./covariance.png)"
   ]
  },
  {
   "cell_type": "markdown",
   "metadata": {},
   "source": [
    "This is very similar to the formula for variance, but because we are examining the relationship between two variables X and Y, we must subtract the difference between each variable and the mean, then sum the product of that relationship. Because we are examining the relationship between two features, we are not doing random sampling and don't need to worry about degrees of freedom here. \n",
    "\n",
    "We can calculate this in python as: "
   ]
  },
  {
   "cell_type": "code",
   "execution_count": 10,
   "metadata": {},
   "outputs": [
    {
     "data": {
      "text/html": [
       "<div>\n",
       "<style scoped>\n",
       "    .dataframe tbody tr th:only-of-type {\n",
       "        vertical-align: middle;\n",
       "    }\n",
       "\n",
       "    .dataframe tbody tr th {\n",
       "        vertical-align: top;\n",
       "    }\n",
       "\n",
       "    .dataframe thead th {\n",
       "        text-align: right;\n",
       "    }\n",
       "</style>\n",
       "<table border=\"1\" class=\"dataframe\">\n",
       "  <thead>\n",
       "    <tr style=\"text-align: right;\">\n",
       "      <th></th>\n",
       "      <th>ad_clicks</th>\n",
       "      <th>products_purchased</th>\n",
       "    </tr>\n",
       "  </thead>\n",
       "  <tbody>\n",
       "    <tr>\n",
       "      <th>ad_clicks</th>\n",
       "      <td>122.766667</td>\n",
       "      <td>14.044444</td>\n",
       "    </tr>\n",
       "    <tr>\n",
       "      <th>products_purchased</th>\n",
       "      <td>14.044444</td>\n",
       "      <td>240.933333</td>\n",
       "    </tr>\n",
       "  </tbody>\n",
       "</table>\n",
       "</div>"
      ],
      "text/plain": [
       "                     ad_clicks  products_purchased\n",
       "ad_clicks           122.766667           14.044444\n",
       "products_purchased   14.044444          240.933333"
      ]
     },
     "execution_count": 10,
     "metadata": {},
     "output_type": "execute_result"
    }
   ],
   "source": [
    "df[['ad_clicks', 'products_purchased']].cov()"
   ]
  },
  {
   "cell_type": "markdown",
   "metadata": {},
   "source": [
    "### Covriance Matrix\n",
    "The output of pandas cov() function is what is called a Covariance Matrix. The number listed between the row labeled ad_clicks and the column labeled ad_clicks is the feature's variance, and the number listed between products_purchased and ad_clicks is the covariance. \n",
    "\n",
    "### Properties of Covariance\n",
    "- Because covariance is in the original units of the variables, variables on scales with bigger numbers, and with wider distributions, will necessarily have bigger covariances\n",
    "- Covariance is not bounded between any particular range, so the numbers can vary (pun intended)\n",
    "- A covariance of 0 means there is no relationship, and a larger number indicates a relationship\n",
    "- Since there is no bounding, the strength of the relationship needs to be measured against the scale of the feture\n",
    "- If the covariance is positive, the variables increase in the same direction, and if the covariance is negative, the variables change in opposite directions"
   ]
  },
  {
   "cell_type": "markdown",
   "metadata": {},
   "source": [
    "## Correlation\n",
    "Correlation measures a linear relationship between two features, most commonly using Pearson's Correlation Coefficient as the test metric. \n",
    "\n",
    "We can calculate correlation as: \n",
    "    ![correlation](./correlation.png)"
   ]
  },
  {
   "cell_type": "markdown",
   "metadata": {},
   "source": [
    "Which we can see is very similar to the two formulas above, and for good reason. The correlation is basically just a standardized version of the covariance where we are dividing the sum of difference by the product of each feature's standard deviation. \n",
    "\n",
    "### Properties of Correlation\n",
    "Dividing the standard deviation standardizes the results to a range between -1 and 1, with: \n",
    "- -1 meaning that there is a strong negative relationship when one feature goes up, the other goes down\n",
    "- +1 meaning that there is a strong positive relationshipo between features, whene one goes up, the other goes up\n",
    "- 0, as with covariance, means there is no relationship\n",
    "- If the features have been normalized, covariance and correlation are equal\n",
    "\n",
    "We can calculate this in python as: "
   ]
  },
  {
   "cell_type": "code",
   "execution_count": 12,
   "metadata": {},
   "outputs": [
    {
     "data": {
      "text/html": [
       "<div>\n",
       "<style scoped>\n",
       "    .dataframe tbody tr th:only-of-type {\n",
       "        vertical-align: middle;\n",
       "    }\n",
       "\n",
       "    .dataframe tbody tr th {\n",
       "        vertical-align: top;\n",
       "    }\n",
       "\n",
       "    .dataframe thead th {\n",
       "        text-align: right;\n",
       "    }\n",
       "</style>\n",
       "<table border=\"1\" class=\"dataframe\">\n",
       "  <thead>\n",
       "    <tr style=\"text-align: right;\">\n",
       "      <th></th>\n",
       "      <th>ad_clicks</th>\n",
       "      <th>products_purchased</th>\n",
       "    </tr>\n",
       "  </thead>\n",
       "  <tbody>\n",
       "    <tr>\n",
       "      <th>ad_clicks</th>\n",
       "      <td>1.000000</td>\n",
       "      <td>0.081661</td>\n",
       "    </tr>\n",
       "    <tr>\n",
       "      <th>products_purchased</th>\n",
       "      <td>0.081661</td>\n",
       "      <td>1.000000</td>\n",
       "    </tr>\n",
       "  </tbody>\n",
       "</table>\n",
       "</div>"
      ],
      "text/plain": [
       "                    ad_clicks  products_purchased\n",
       "ad_clicks            1.000000            0.081661\n",
       "products_purchased   0.081661            1.000000"
      ]
     },
     "execution_count": 12,
     "metadata": {},
     "output_type": "execute_result"
    }
   ],
   "source": [
    "df[['ad_clicks', 'products_purchased']].corr()"
   ]
  },
  {
   "cell_type": "markdown",
   "metadata": {},
   "source": [
    "### Correlation Matrix\n",
    "The above correlation matrix shows that a variable is perfectly correlated with itself at a value of 1, and very weakly correlated with the other feature with an R^2 (Pearon's Correlation Coeff) of .08. \n",
    "\n",
    "We can also create a heatmap of the correlation, which in larger datasets makes the relationships easier to see: "
   ]
  },
  {
   "cell_type": "code",
   "execution_count": 14,
   "metadata": {},
   "outputs": [
    {
     "data": {
      "text/html": [
       "<style  type=\"text/css\" >\n",
       "    #T_49c08cde_b34b_11e9_8a7a_9a0013574d90row0_col0 {\n",
       "            background-color:  #b40426;\n",
       "            color:  #f1f1f1;\n",
       "        }    #T_49c08cde_b34b_11e9_8a7a_9a0013574d90row0_col1 {\n",
       "            background-color:  #3b4cc0;\n",
       "            color:  #f1f1f1;\n",
       "        }    #T_49c08cde_b34b_11e9_8a7a_9a0013574d90row1_col0 {\n",
       "            background-color:  #3b4cc0;\n",
       "            color:  #f1f1f1;\n",
       "        }    #T_49c08cde_b34b_11e9_8a7a_9a0013574d90row1_col1 {\n",
       "            background-color:  #b40426;\n",
       "            color:  #f1f1f1;\n",
       "        }</style><table id=\"T_49c08cde_b34b_11e9_8a7a_9a0013574d90\" ><thead>    <tr>        <th class=\"blank level0\" ></th>        <th class=\"col_heading level0 col0\" >ad_clicks</th>        <th class=\"col_heading level0 col1\" >products_purchased</th>    </tr></thead><tbody>\n",
       "                <tr>\n",
       "                        <th id=\"T_49c08cde_b34b_11e9_8a7a_9a0013574d90level0_row0\" class=\"row_heading level0 row0\" >ad_clicks</th>\n",
       "                        <td id=\"T_49c08cde_b34b_11e9_8a7a_9a0013574d90row0_col0\" class=\"data row0 col0\" >1</td>\n",
       "                        <td id=\"T_49c08cde_b34b_11e9_8a7a_9a0013574d90row0_col1\" class=\"data row0 col1\" >0.0816612</td>\n",
       "            </tr>\n",
       "            <tr>\n",
       "                        <th id=\"T_49c08cde_b34b_11e9_8a7a_9a0013574d90level0_row1\" class=\"row_heading level0 row1\" >products_purchased</th>\n",
       "                        <td id=\"T_49c08cde_b34b_11e9_8a7a_9a0013574d90row1_col0\" class=\"data row1 col0\" >0.0816612</td>\n",
       "                        <td id=\"T_49c08cde_b34b_11e9_8a7a_9a0013574d90row1_col1\" class=\"data row1 col1\" >1</td>\n",
       "            </tr>\n",
       "    </tbody></table>"
      ],
      "text/plain": [
       "<pandas.io.formats.style.Styler at 0x116ae9278>"
      ]
     },
     "execution_count": 14,
     "metadata": {},
     "output_type": "execute_result"
    }
   ],
   "source": [
    "df.corr().style.background_gradient(cmap='coolwarm')"
   ]
  },
  {
   "cell_type": "markdown",
   "metadata": {},
   "source": [
    "A better visualization method is to import a popular plotting package called seaborn and plot the output of the correlation matrix: "
   ]
  },
  {
   "cell_type": "code",
   "execution_count": 16,
   "metadata": {},
   "outputs": [
    {
     "data": {
      "text/plain": [
       "<matplotlib.axes._subplots.AxesSubplot at 0x1a1a6b0630>"
      ]
     },
     "execution_count": 16,
     "metadata": {},
     "output_type": "execute_result"
    },
    {
     "data": {
      "image/png": "[encoded data removed]",
      "text/plain": [
       "<Figure size 432x288 with 2 Axes>"
      ]
     },
     "metadata": {
      "needs_background": "light"
     },
     "output_type": "display_data"
    }
   ],
   "source": [
    "import seaborn as sns\n",
    "corr = df.corr()\n",
    "sns.heatmap(corr, \n",
    "            xticklabels=corr.columns.values,\n",
    "            yticklabels=corr.columns.values)"
   ]
  },
  {
   "cell_type": "markdown",
   "metadata": {},
   "source": [
    "The legend shows us that the colors will be darker with a stronger relationship, and lighter with a weaker relationship "
   ]
  },
  {
   "cell_type": "markdown",
   "metadata": {},
   "source": [
    "### Interpreting Correlation\n",
    "Another quick way to view the correlation between two variables is to create a scatterplot. Similar data points should cluster together, and if there is a relationship between two variables, we should see the points grouping together in some kind of pattern: \n",
    "![correlation](./corr_scatter.png)\n",
    "\n",
    "The top row of this diagram from [Wikipedia](http://wikipedia.org/wiki/Correlation_and_dependence) shows linear relationships with differing correlation coefficients. The second row shows perfect correlations, and the third shows variables that are clearly related but non-linear (aka not a good dataset for linear regression). "
   ]
  },
  {
   "cell_type": "code",
   "execution_count": 19,
   "metadata": {},
   "outputs": [
    {
     "data": {
      "text/plain": [
       "<matplotlib.collections.PathCollection at 0x1a1a85e080>"
      ]
     },
     "execution_count": 19,
     "metadata": {},
     "output_type": "execute_result"
    },
    {
     "data": {
      "image/png": "[encoded data removed]",
      "text/plain": [
       "<Figure size 432x288 with 1 Axes>"
      ]
     },
     "metadata": {
      "needs_background": "light"
     },
     "output_type": "display_data"
    }
   ],
   "source": [
    "import matplotlib.pyplot as plt\n",
    "%matplotlib inline\n",
    "\n",
    "plt.scatter(df.ad_clicks, df.products_purchased)"
   ]
  },
  {
   "cell_type": "markdown",
   "metadata": {},
   "source": [
    "Above we can clearly see three sets of points clustering together, with two outliers near the top. We can also see that this dataset probably doesn't contain enough samples to answer any real questions. "
   ]
  },
  {
   "cell_type": "code",
   "execution_count": null,
   "metadata": {},
   "outputs": [],
   "source": []
  }
 ],
 "metadata": {
  "kernelspec": {
   "display_name": "Python 3",
   "language": "python",
   "name": "python3"
  },
  "language_info": {
   "codemirror_mode": {
    "name": "ipython",
    "version": 3
   },
   "file_extension": ".py",
   "mimetype": "text/x-python",
   "name": "python",
   "nbconvert_exporter": "python",
   "pygments_lexer": "ipython3",
   "version": "3.7.1"
  }
 },
 "nbformat": 4,
 "nbformat_minor": 2
}
