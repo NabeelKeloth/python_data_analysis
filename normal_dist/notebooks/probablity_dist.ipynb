{
 "cells": [
  {
   "attachments": {
    "image.png": {
     "image/png": "[encoded data removed]"
    }
   },
   "cell_type": "markdown",
   "metadata": {},
   "source": [
    "# Probability Distributions\n",
    "Many standard statistical models operate under the assumption that your dataset takes on a certain distribution, such a Gaussian (normal). The probability distribution describes the array of all possible outcomes that a random variable can take, along with the probability of each possibility. Depending on the random variable and the situation, a number of different distributions are possible. \n",
    "\n",
    "![winter](./winter.jpeg)\n",
    "\n",
    "\n",
    "## Discrete vs Continuous Random Variables\n",
    "The methods we can use for calculating probability are determined by whether a variable is continuous or discrete. \n",
    "\n",
    "If we blindly pick a random variable X from our dataset, the possible values for X can be described as discrete if X can only take on a certain number of distinct values, such as in a coin flip where X can only equal heads or tails, and continuous if X can take on an infinite number of possible values, such as weight or height. \n",
    "\n",
    "![prob_dist](./probabilty_dist.png)\n",
    "\n",
    "The diagram above shows the probablity densities for some of the most common distirubtions. The horizontal (X) axis in each box is the set of possible numeric outcomes. The vertical (Y) axis describes the probability of outcomes. \n",
    "\n",
    "Discrete distributions are mostly portrayed at the top of the chart, where the line height represents the probability of that outcome, while the bottom half represents continuous distributions as a curve, with each possible outcome falling somewhere in the area below the curve. \n",
    "\n",
    "### Discrete Distributions\n",
    "If X is discrete and can only take on a limited set of values, then we can calculate the probility that X is either heads or tails, called it's **probability mass function**. Examples of these types of distributions are Bernoulli, Binomial and Poisson. \n",
    "- `disrete_X = [\"heads\", \"tails\"]`\n",
    "- `P(X) = 1/2`\n",
    "\n",
    "### Continuous Distributions\n",
    "For a continuous X, the probability that X can belong to any particular range of values is known as it's **probability density function**. Rather than trying to determine the probability that X is equal to a specific value, we are interested in the probability that X falls in the range of real numbers. \n",
    "- `continuous_X = ∞`  \n",
    "- `P(X=x) = 0` Because X can take on any, or all, real values, then there is a set of infinite possible values \n",
    "\n",
    "Even though we cannot calculate the probability that X equals a particular random number, we can calculate the probability that a value, k, lies within the range of X, by calculating the probability density function for X, and determining if k falls in the area under the curve. \n",
    "![image.png](attachment:image.png)\n",
    "Where:\n",
    "- μ (mu) is the population mean\n",
    "- σ (sigma) is the standard deviation\n",
    "- σ2 is the variance\n",
    "\n",
    "![standard_dist](standard_dist.png)\n",
    "\n",
    "We can see above that on the y axis, any output value from a probability density function is greater than or equal to zero, and less than 1. "
   ]
  },
  {
   "cell_type": "markdown",
   "metadata": {},
   "source": [
    "## Standard Normal Distribution (aka Gaussian)\n",
    "The most famous, and most widely used, probability distribution function is the Gaussian, or standard normal, distribution. \n",
    "\n",
    "A Gaussian distribution has the following properties: \n",
    "- Mean = 0\n",
    "- Standard deviation = 1\n",
    "\n",
    "### Central Limit Theroum\n",
    "One of the reasons this distribution is used as the gold standard is due to the Central Limit Theorum- with a large enough sample size, sample means become normally distributed (mean = 0, std dev = 1). This provides us with a baseline we can use to determine what is a reasonable expected range for the value of k. \n",
    "\n",
    "Basically, we have observed that no matter what kind of distribution you have, if you draw groups of random samples from that distribution, their means will be normally distributed. How cool is that? \n",
    "\n",
    "For example, if you randomly picked 10 people out of 100 and recorded their heights, the average of those 10 heights would be the sample mean. If you did this enough times, plotting the means as you go along, you would see that with each draw, the distribution becomes roughly normal. "
   ]
  },
  {
   "cell_type": "markdown",
   "metadata": {},
   "source": [
    "### CLT with dice\n",
    "A standard die is a cube with six possible outcomes ranging from 1 to 6, with the probability of rolling any one number 1/6. The distribution of the numbers that turn up from a dice roll is uniform given the equal likelihood. \n",
    "\n",
    "We'll use numpy's randint() function to simulate 50 dice rolls and landing on a randome number between 1 and 6: "
   ]
  },
  {
   "cell_type": "code",
   "execution_count": 8,
   "metadata": {},
   "outputs": [
    {
     "data": {
      "text/plain": [
       "array([6, 1, 3, 4, 2, 4, 5, 3, 6, 3, 2, 1, 5, 3, 4, 6, 5, 5, 1, 2, 2, 1,\n",
       "       4, 1, 3, 4, 1, 5, 5, 5, 3, 2, 3, 2, 6, 2, 1, 1, 2, 3, 6, 6, 1, 1,\n",
       "       2, 4, 5, 4, 1, 2])"
      ]
     },
     "execution_count": 8,
     "metadata": {},
     "output_type": "execute_result"
    }
   ],
   "source": [
    "from numpy.random import randint\n",
    "import numpy as np\n",
    "from matplotlib import pyplot as plt\n",
    "\n",
    "# generate a sample of die rolls\n",
    "rolls = randint(1, 7, 50)\n",
    "rolls"
   ]
  },
  {
   "cell_type": "markdown",
   "metadata": {},
   "source": [
    "Now let's view the mean at 50 rolls: "
   ]
  },
  {
   "cell_type": "code",
   "execution_count": 10,
   "metadata": {},
   "outputs": [
    {
     "name": "stdout",
     "output_type": "stream",
     "text": [
      "3.18\n"
     ]
    }
   ],
   "source": [
    "print(np.mean(rolls))"
   ]
  },
  {
   "cell_type": "markdown",
   "metadata": {},
   "source": [
    "We know that the expected mean for this distribution can be calculated as the sum of each die divided by total possiblities:"
   ]
  },
  {
   "cell_type": "code",
   "execution_count": 11,
   "metadata": {},
   "outputs": [
    {
     "data": {
      "text/plain": [
       "3.5"
      ]
     },
     "execution_count": 11,
     "metadata": {},
     "output_type": "execute_result"
    }
   ],
   "source": [
    "(1 + 2 + 3 + 4 + 5 + 6) / 6 "
   ]
  },
  {
   "cell_type": "markdown",
   "metadata": {},
   "source": [
    "Which is different than our sampled mean, as expected, because it's estimating the population mean from our random draws. \n",
    "\n",
    "#### 1000 samples\n",
    "\n",
    "Let's grab 100 samples of 50 and see how that impacts our distribution and mean: "
   ]
  },
  {
   "cell_type": "code",
   "execution_count": 23,
   "metadata": {},
   "outputs": [],
   "source": [
    "means_100 = [np.mean(randint(1, 7, 50)) for _ in range(100)]"
   ]
  },
  {
   "cell_type": "code",
   "execution_count": 24,
   "metadata": {},
   "outputs": [
    {
     "data": {
      "image/png": "[encoded data removed]",
      "text/plain": [
       "<Figure size 432x288 with 1 Axes>"
      ]
     },
     "metadata": {
      "needs_background": "light"
     },
     "output_type": "display_data"
    }
   ],
   "source": [
    "# plot the distribution of sample means\n",
    "plt.hist(means_100)\n",
    "plt.show()"
   ]
  },
  {
   "cell_type": "code",
   "execution_count": 25,
   "metadata": {},
   "outputs": [
    {
     "data": {
      "text/plain": [
       "3.5174000000000003"
      ]
     },
     "execution_count": 25,
     "metadata": {},
     "output_type": "execute_result"
    }
   ],
   "source": [
    "np.mean(means_100)"
   ]
  },
  {
   "cell_type": "markdown",
   "metadata": {},
   "source": [
    "#### 1000 samples\n",
    "Let's try it again with 1000 samples: "
   ]
  },
  {
   "cell_type": "code",
   "execution_count": 28,
   "metadata": {},
   "outputs": [
    {
     "data": {
      "image/png": "[encoded data removed]",
      "text/plain": [
       "<Figure size 432x288 with 1 Axes>"
      ]
     },
     "metadata": {
      "needs_background": "light"
     },
     "output_type": "display_data"
    }
   ],
   "source": [
    "means_1000 = [np.mean(randint(1, 7, 50)) for _ in range(1000)]\n",
    "# plot the distribution of sample means\n",
    "plt.hist(means_1000)\n",
    "plt.show()"
   ]
  },
  {
   "cell_type": "code",
   "execution_count": 27,
   "metadata": {},
   "outputs": [
    {
     "data": {
      "text/plain": [
       "3.50622"
      ]
     },
     "execution_count": 27,
     "metadata": {},
     "output_type": "execute_result"
    }
   ],
   "source": [
    "np.mean(means_1000)"
   ]
  },
  {
   "cell_type": "markdown",
   "metadata": {},
   "source": [
    "Ta da! "
   ]
  },
  {
   "cell_type": "markdown",
   "metadata": {},
   "source": [
    "## Why is this important? \n",
    "At the heart of the matter, each analysis we're doing is a hypothesis test. We are setting out to determine the likelihood that the data you have is actually determining something beyond what you'd exepct to see by random chance. \n",
    "\n",
    "To test our hypothesis, we can use the CLT to create a **null distribution**, the distribution that we would expect to see if our hypothesis is wrong. For example, in the sceario above, we were able to calculate the distribution of dice rolls we can expect to see by random chance. \n",
    "\n",
    "![bell_curve](./bell_curve.jpg)\n",
    "\n",
    "Using the CLT, we know that with a large enough sample size, the mean of this distribution will be roughly 0, and the standard deviation will be roughly 1. So if our randome variable has a standard deviation greater than 1, we know that the likelihood of it occurring is outside the realm of what we would expect to see by chance. "
   ]
  }
 ],
 "metadata": {
  "kernelspec": {
   "display_name": "Python 3",
   "language": "python",
   "name": "python3"
  },
  "language_info": {
   "codemirror_mode": {
    "name": "ipython",
    "version": 3
   },
   "file_extension": ".py",
   "mimetype": "text/x-python",
   "name": "python",
   "nbconvert_exporter": "python",
   "pygments_lexer": "ipython3",
   "version": "3.7.1"
  }
 },
 "nbformat": 4,
 "nbformat_minor": 2
}
